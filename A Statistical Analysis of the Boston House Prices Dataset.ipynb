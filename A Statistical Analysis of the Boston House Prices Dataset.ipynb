{
 "cells": [
  {
   "cell_type": "markdown",
   "metadata": {},
   "source": [
    "# A Statistical Analysis of the Boston House Prices Dataset"
   ]
  },
  {
   "cell_type": "markdown",
   "metadata": {},
   "source": [
    "The purpose of this notebook is to introduce the reader to the well known data set of Boston House Prices.\n",
    "The dataset was originally published by **Harrison, D. and Rubinfeld, D.L.** *`Hedonic prices and the demand for clean air'*, J. Environ. Economics & Management, vol.5, 81-102, 1978.\n",
    "\n",
    "It contains information collected by the U.S Census Service concerning housing in the area of Boston Mass. It was obtained from the StatLib archive (http://lib.stat.cmu.edu/datasets/boston), and has been used extensively throughout the literature to benchmark algorithms.\n",
    "\n",
    "**Reference:** https://www.cs.toronto.edu/~delve/data/boston/bostonDetail.html\n",
    "\n",
    "There are a number of versions of this dataset available, however for the purposes of this assignment, I will use the dataset that is included in the scikit-learn package for Python."
   ]
  },
  {
   "cell_type": "markdown",
   "metadata": {},
   "source": [
    "**Python packages used in the analysis** <br>\n",
    "Below, I import the packages necessary to carry out all of the work that is coded within this notebook"
   ]
  },
  {
   "cell_type": "code",
   "execution_count": 1,
   "metadata": {},
   "outputs": [
    {
     "name": "stderr",
     "output_type": "stream",
     "text": [
      "Using TensorFlow backend.\n"
     ]
    }
   ],
   "source": [
    "# To import the boston dataset. https://scikit-learn.org/stable/modules/generated/sklearn.datasets.load_boston.html\n",
    "from sklearn.datasets import load_boston\n",
    "\n",
    "# for dataframe creation and manipulation\n",
    "import pandas as pd\n",
    "\n",
    "# https://towardsdatascience.com/better-heatmaps-and-correlation-matrix-plots-in-python-41445d0f2bec\n",
    "# for mathematical tools and plotting\n",
    "import numpy as np\n",
    "import seaborn as sns\n",
    "import matplotlib.pyplot as plt\n",
    "\n",
    "# inferential stats\n",
    "import scipy.stats as ss\n",
    "\n",
    "# prediction\n",
    "import keras as kr\n",
    "import sklearn as sk\n",
    "import sklearn.preprocessing as pre\n",
    "import sklearn.decomposition as dec\n",
    "import sklearn.model_selection as mod\n"
   ]
  },
  {
   "cell_type": "markdown",
   "metadata": {},
   "source": [
    "## Document Objectives\n",
    "\n",
    "The document is split into a number of distinct sections, aimed at providing a comprehensive statistical analysis of the data contained in the Boston House Price datset.\n",
    "\n",
    "***\n",
    "### 1. Descriptive Statistics\n",
    "First, we will take a look at the data using some descriptive statistics, as well as attempting to identify what, if any relationships exist between the included variables.\n",
    "\n",
    "***\n",
    "### 2. Inferential Statistics\n",
    "We will then take a specific look at the price of houses divided into two distinct groups; those situated along the Charles River, and those that are not. We will attempt to infer from the data, whether there is a statistically significant difference between the values of houses in the two categories.\n",
    "\n",
    "***\n",
    "### 3. Prediction\n",
    "\n",
    "We will use the keras package to create a neural network that can predict the median house price, based on the other variables in the dataset.\n",
    "***"
   ]
  },
  {
   "cell_type": "markdown",
   "metadata": {},
   "source": [
    "## Part 1: Describing the Dataset"
   ]
  },
  {
   "cell_type": "code",
   "execution_count": 2,
   "metadata": {},
   "outputs": [
    {
     "data": {
      "text/plain": [
       "dict_keys(['data', 'target', 'feature_names', 'DESCR', 'filename'])"
      ]
     },
     "execution_count": 2,
     "metadata": {},
     "output_type": "execute_result"
    }
   ],
   "source": [
    "# load the dataset\n",
    "boston = load_boston()\n",
    "\n",
    "# https://towardsdatascience.com/linear-regression-on-boston-housing-dataset-f409b7e4a155\n",
    "# identify the various contents of the dataset\n",
    "# data: this is the actual recorded data\n",
    "# target: this is the median house price per area. It is usually the variable we are attempting to predict, \n",
    "# and so is not included in the data\n",
    "# feature_names: the names of the attributes contained in the data\n",
    "# DESCR: is a text description of the data, including definition of the attributes, no. of instances and various other information\n",
    "# filename: the full path file name of the dataset\n",
    "boston.keys()"
   ]
  },
  {
   "cell_type": "code",
   "execution_count": 3,
   "metadata": {},
   "outputs": [
    {
     "data": {
      "text/plain": [
       "'/opt/anaconda3/lib/python3.7/site-packages/sklearn/datasets/data/boston_house_prices.csv'"
      ]
     },
     "execution_count": 3,
     "metadata": {},
     "output_type": "execute_result"
    }
   ],
   "source": [
    "boston.filename"
   ]
  },
  {
   "cell_type": "code",
   "execution_count": 4,
   "metadata": {},
   "outputs": [
    {
     "data": {
      "text/plain": [
       "array(['CRIM', 'ZN', 'INDUS', 'CHAS', 'NOX', 'RM', 'AGE', 'DIS', 'RAD',\n",
       "       'TAX', 'PTRATIO', 'B', 'LSTAT'], dtype='<U7')"
      ]
     },
     "execution_count": 4,
     "metadata": {},
     "output_type": "execute_result"
    }
   ],
   "source": [
    "boston.feature_names"
   ]
  },
  {
   "cell_type": "code",
   "execution_count": 5,
   "metadata": {},
   "outputs": [
    {
     "name": "stdout",
     "output_type": "stream",
     "text": [
      ".. _boston_dataset:\n",
      "\n",
      "Boston house prices dataset\n",
      "---------------------------\n",
      "\n",
      "**Data Set Characteristics:**  \n",
      "\n",
      "    :Number of Instances: 506 \n",
      "\n",
      "    :Number of Attributes: 13 numeric/categorical predictive. Median Value (attribute 14) is usually the target.\n",
      "\n",
      "    :Attribute Information (in order):\n",
      "        - CRIM     per capita crime rate by town\n",
      "        - ZN       proportion of residential land zoned for lots over 25,000 sq.ft.\n",
      "        - INDUS    proportion of non-retail business acres per town\n",
      "        - CHAS     Charles River dummy variable (= 1 if tract bounds river; 0 otherwise)\n",
      "        - NOX      nitric oxides concentration (parts per 10 million)\n",
      "        - RM       average number of rooms per dwelling\n",
      "        - AGE      proportion of owner-occupied units built prior to 1940\n",
      "        - DIS      weighted distances to five Boston employment centres\n",
      "        - RAD      index of accessibility to radial highways\n",
      "        - TAX      full-value property-tax rate per $10,000\n",
      "        - PTRATIO  pupil-teacher ratio by town\n",
      "        - B        1000(Bk - 0.63)^2 where Bk is the proportion of blacks by town\n",
      "        - LSTAT    % lower status of the population\n",
      "        - MEDV     Median value of owner-occupied homes in $1000's\n",
      "\n",
      "    :Missing Attribute Values: None\n",
      "\n",
      "    :Creator: Harrison, D. and Rubinfeld, D.L.\n",
      "\n",
      "This is a copy of UCI ML housing dataset.\n",
      "https://archive.ics.uci.edu/ml/machine-learning-databases/housing/\n",
      "\n",
      "\n",
      "This dataset was taken from the StatLib library which is maintained at Carnegie Mellon University.\n",
      "\n",
      "The Boston house-price data of Harrison, D. and Rubinfeld, D.L. 'Hedonic\n",
      "prices and the demand for clean air', J. Environ. Economics & Management,\n",
      "vol.5, 81-102, 1978.   Used in Belsley, Kuh & Welsch, 'Regression diagnostics\n",
      "...', Wiley, 1980.   N.B. Various transformations are used in the table on\n",
      "pages 244-261 of the latter.\n",
      "\n",
      "The Boston house-price data has been used in many machine learning papers that address regression\n",
      "problems.   \n",
      "     \n",
      ".. topic:: References\n",
      "\n",
      "   - Belsley, Kuh & Welsch, 'Regression diagnostics: Identifying Influential Data and Sources of Collinearity', Wiley, 1980. 244-261.\n",
      "   - Quinlan,R. (1993). Combining Instance-Based and Model-Based Learning. In Proceedings on the Tenth International Conference of Machine Learning, 236-243, University of Massachusetts, Amherst. Morgan Kaufmann.\n",
      "\n"
     ]
    }
   ],
   "source": [
    "print(boston.DESCR)"
   ]
  },
  {
   "cell_type": "markdown",
   "metadata": {},
   "source": [
    "***\n",
    "'MEDV', the **target** variable, is stored separately to the rest of the data. So we will store the data as a Pandas dataframe, and add the target variable to df.\n",
    "***"
   ]
  },
  {
   "cell_type": "code",
   "execution_count": 6,
   "metadata": {},
   "outputs": [],
   "source": [
    "# create a dataframe, with column headers equal to the attribute names\n",
    "df = pd.DataFrame(boston.data)\n",
    "df.columns = boston.feature_names"
   ]
  },
  {
   "cell_type": "code",
   "execution_count": 7,
   "metadata": {},
   "outputs": [],
   "source": [
    "# add the target variable to the dataframe as 'MEDV'\n",
    "df[\"MEDV\"] = boston.target"
   ]
  },
  {
   "cell_type": "code",
   "execution_count": 8,
   "metadata": {},
   "outputs": [
    {
     "data": {
      "text/plain": [
       "(506, 14)"
      ]
     },
     "execution_count": 8,
     "metadata": {},
     "output_type": "execute_result"
    }
   ],
   "source": [
    "# df.shape will show that the dataset contains 13 columns (or attributes), with 506 rows.\n",
    "# One of which is the header row, therefore 505 records in the dataset \n",
    "df.shape"
   ]
  },
  {
   "cell_type": "code",
   "execution_count": 9,
   "metadata": {},
   "outputs": [
    {
     "data": {
      "text/html": [
       "<div>\n",
       "<style scoped>\n",
       "    .dataframe tbody tr th:only-of-type {\n",
       "        vertical-align: middle;\n",
       "    }\n",
       "\n",
       "    .dataframe tbody tr th {\n",
       "        vertical-align: top;\n",
       "    }\n",
       "\n",
       "    .dataframe thead th {\n",
       "        text-align: right;\n",
       "    }\n",
       "</style>\n",
       "<table border=\"1\" class=\"dataframe\">\n",
       "  <thead>\n",
       "    <tr style=\"text-align: right;\">\n",
       "      <th></th>\n",
       "      <th>CRIM</th>\n",
       "      <th>ZN</th>\n",
       "      <th>INDUS</th>\n",
       "      <th>CHAS</th>\n",
       "      <th>NOX</th>\n",
       "      <th>RM</th>\n",
       "      <th>AGE</th>\n",
       "      <th>DIS</th>\n",
       "      <th>RAD</th>\n",
       "      <th>TAX</th>\n",
       "      <th>PTRATIO</th>\n",
       "      <th>B</th>\n",
       "      <th>LSTAT</th>\n",
       "      <th>MEDV</th>\n",
       "    </tr>\n",
       "  </thead>\n",
       "  <tbody>\n",
       "    <tr>\n",
       "      <td>0</td>\n",
       "      <td>0.00632</td>\n",
       "      <td>18.0</td>\n",
       "      <td>2.31</td>\n",
       "      <td>0.0</td>\n",
       "      <td>0.538</td>\n",
       "      <td>6.575</td>\n",
       "      <td>65.2</td>\n",
       "      <td>4.0900</td>\n",
       "      <td>1.0</td>\n",
       "      <td>296.0</td>\n",
       "      <td>15.3</td>\n",
       "      <td>396.90</td>\n",
       "      <td>4.98</td>\n",
       "      <td>24.0</td>\n",
       "    </tr>\n",
       "    <tr>\n",
       "      <td>1</td>\n",
       "      <td>0.02731</td>\n",
       "      <td>0.0</td>\n",
       "      <td>7.07</td>\n",
       "      <td>0.0</td>\n",
       "      <td>0.469</td>\n",
       "      <td>6.421</td>\n",
       "      <td>78.9</td>\n",
       "      <td>4.9671</td>\n",
       "      <td>2.0</td>\n",
       "      <td>242.0</td>\n",
       "      <td>17.8</td>\n",
       "      <td>396.90</td>\n",
       "      <td>9.14</td>\n",
       "      <td>21.6</td>\n",
       "    </tr>\n",
       "    <tr>\n",
       "      <td>2</td>\n",
       "      <td>0.02729</td>\n",
       "      <td>0.0</td>\n",
       "      <td>7.07</td>\n",
       "      <td>0.0</td>\n",
       "      <td>0.469</td>\n",
       "      <td>7.185</td>\n",
       "      <td>61.1</td>\n",
       "      <td>4.9671</td>\n",
       "      <td>2.0</td>\n",
       "      <td>242.0</td>\n",
       "      <td>17.8</td>\n",
       "      <td>392.83</td>\n",
       "      <td>4.03</td>\n",
       "      <td>34.7</td>\n",
       "    </tr>\n",
       "    <tr>\n",
       "      <td>3</td>\n",
       "      <td>0.03237</td>\n",
       "      <td>0.0</td>\n",
       "      <td>2.18</td>\n",
       "      <td>0.0</td>\n",
       "      <td>0.458</td>\n",
       "      <td>6.998</td>\n",
       "      <td>45.8</td>\n",
       "      <td>6.0622</td>\n",
       "      <td>3.0</td>\n",
       "      <td>222.0</td>\n",
       "      <td>18.7</td>\n",
       "      <td>394.63</td>\n",
       "      <td>2.94</td>\n",
       "      <td>33.4</td>\n",
       "    </tr>\n",
       "    <tr>\n",
       "      <td>4</td>\n",
       "      <td>0.06905</td>\n",
       "      <td>0.0</td>\n",
       "      <td>2.18</td>\n",
       "      <td>0.0</td>\n",
       "      <td>0.458</td>\n",
       "      <td>7.147</td>\n",
       "      <td>54.2</td>\n",
       "      <td>6.0622</td>\n",
       "      <td>3.0</td>\n",
       "      <td>222.0</td>\n",
       "      <td>18.7</td>\n",
       "      <td>396.90</td>\n",
       "      <td>5.33</td>\n",
       "      <td>36.2</td>\n",
       "    </tr>\n",
       "  </tbody>\n",
       "</table>\n",
       "</div>"
      ],
      "text/plain": [
       "      CRIM    ZN  INDUS  CHAS    NOX     RM   AGE     DIS  RAD    TAX  \\\n",
       "0  0.00632  18.0   2.31   0.0  0.538  6.575  65.2  4.0900  1.0  296.0   \n",
       "1  0.02731   0.0   7.07   0.0  0.469  6.421  78.9  4.9671  2.0  242.0   \n",
       "2  0.02729   0.0   7.07   0.0  0.469  7.185  61.1  4.9671  2.0  242.0   \n",
       "3  0.03237   0.0   2.18   0.0  0.458  6.998  45.8  6.0622  3.0  222.0   \n",
       "4  0.06905   0.0   2.18   0.0  0.458  7.147  54.2  6.0622  3.0  222.0   \n",
       "\n",
       "   PTRATIO       B  LSTAT  MEDV  \n",
       "0     15.3  396.90   4.98  24.0  \n",
       "1     17.8  396.90   9.14  21.6  \n",
       "2     17.8  392.83   4.03  34.7  \n",
       "3     18.7  394.63   2.94  33.4  \n",
       "4     18.7  396.90   5.33  36.2  "
      ]
     },
     "execution_count": 9,
     "metadata": {},
     "output_type": "execute_result"
    }
   ],
   "source": [
    "# Display the first 5 rows in the dataset, to get an idea of what is contained\n",
    "df.head()"
   ]
  },
  {
   "cell_type": "code",
   "execution_count": 10,
   "metadata": {},
   "outputs": [
    {
     "data": {
      "text/plain": [
       "CRIM       0\n",
       "ZN         0\n",
       "INDUS      0\n",
       "CHAS       0\n",
       "NOX        0\n",
       "RM         0\n",
       "AGE        0\n",
       "DIS        0\n",
       "RAD        0\n",
       "TAX        0\n",
       "PTRATIO    0\n",
       "B          0\n",
       "LSTAT      0\n",
       "MEDV       0\n",
       "dtype: int64"
      ]
     },
     "execution_count": 10,
     "metadata": {},
     "output_type": "execute_result"
    }
   ],
   "source": [
    "# There are no missing values in the dataset\n",
    "df.isnull().sum()"
   ]
  },
  {
   "cell_type": "code",
   "execution_count": 11,
   "metadata": {},
   "outputs": [
    {
     "data": {
      "image/png": "[encoded data removed]",
      "text/plain": [
       "<Figure size 842.4x595.44 with 1 Axes>"
      ]
     },
     "metadata": {},
     "output_type": "display_data"
    }
   ],
   "source": [
    "sns.set(rc={'figure.figsize':(11.7,8.27)})\n",
    "sns.distplot(df['MEDV'], bins=30)\n",
    "plt.show()"
   ]
  },
  {
   "cell_type": "markdown",
   "metadata": {},
   "source": [
    "The above shows that the Median House Price values per area are normally distributed.\n",
    "Noteably, there are an unusual number of duplicate values set at 50.0, which suggests that values may be capped at $50k. However, in reality thios seems unlikely, so it is reasonable to assume, and further reading suggests the same, that values have been censored for some reason and that these house prices have been set a default value. They are therefore worthless in any analysis and I will remove them."
   ]
  },
  {
   "cell_type": "code",
   "execution_count": 12,
   "metadata": {},
   "outputs": [
    {
     "data": {
      "text/plain": [
       "(506, 14)"
      ]
     },
     "execution_count": 12,
     "metadata": {},
     "output_type": "execute_result"
    }
   ],
   "source": [
    "df.shape"
   ]
  },
  {
   "cell_type": "markdown",
   "metadata": {},
   "source": [
    "Now we will look at some basic descriptive statistics for the remaining instances"
   ]
  },
  {
   "cell_type": "code",
   "execution_count": 13,
   "metadata": {},
   "outputs": [
    {
     "data": {
      "text/html": [
       "<div>\n",
       "<style scoped>\n",
       "    .dataframe tbody tr th:only-of-type {\n",
       "        vertical-align: middle;\n",
       "    }\n",
       "\n",
       "    .dataframe tbody tr th {\n",
       "        vertical-align: top;\n",
       "    }\n",
       "\n",
       "    .dataframe thead th {\n",
       "        text-align: right;\n",
       "    }\n",
       "</style>\n",
       "<table border=\"1\" class=\"dataframe\">\n",
       "  <thead>\n",
       "    <tr style=\"text-align: right;\">\n",
       "      <th></th>\n",
       "      <th>count</th>\n",
       "      <th>mean</th>\n",
       "      <th>std</th>\n",
       "      <th>min</th>\n",
       "      <th>25%</th>\n",
       "      <th>50%</th>\n",
       "      <th>75%</th>\n",
       "      <th>max</th>\n",
       "    </tr>\n",
       "  </thead>\n",
       "  <tbody>\n",
       "    <tr>\n",
       "      <td>CRIM</td>\n",
       "      <td>506.0</td>\n",
       "      <td>3.613524</td>\n",
       "      <td>8.601545</td>\n",
       "      <td>0.00632</td>\n",
       "      <td>0.082045</td>\n",
       "      <td>0.25651</td>\n",
       "      <td>3.677083</td>\n",
       "      <td>88.9762</td>\n",
       "    </tr>\n",
       "    <tr>\n",
       "      <td>ZN</td>\n",
       "      <td>506.0</td>\n",
       "      <td>11.363636</td>\n",
       "      <td>23.322453</td>\n",
       "      <td>0.00000</td>\n",
       "      <td>0.000000</td>\n",
       "      <td>0.00000</td>\n",
       "      <td>12.500000</td>\n",
       "      <td>100.0000</td>\n",
       "    </tr>\n",
       "    <tr>\n",
       "      <td>INDUS</td>\n",
       "      <td>506.0</td>\n",
       "      <td>11.136779</td>\n",
       "      <td>6.860353</td>\n",
       "      <td>0.46000</td>\n",
       "      <td>5.190000</td>\n",
       "      <td>9.69000</td>\n",
       "      <td>18.100000</td>\n",
       "      <td>27.7400</td>\n",
       "    </tr>\n",
       "    <tr>\n",
       "      <td>CHAS</td>\n",
       "      <td>506.0</td>\n",
       "      <td>0.069170</td>\n",
       "      <td>0.253994</td>\n",
       "      <td>0.00000</td>\n",
       "      <td>0.000000</td>\n",
       "      <td>0.00000</td>\n",
       "      <td>0.000000</td>\n",
       "      <td>1.0000</td>\n",
       "    </tr>\n",
       "    <tr>\n",
       "      <td>NOX</td>\n",
       "      <td>506.0</td>\n",
       "      <td>0.554695</td>\n",
       "      <td>0.115878</td>\n",
       "      <td>0.38500</td>\n",
       "      <td>0.449000</td>\n",
       "      <td>0.53800</td>\n",
       "      <td>0.624000</td>\n",
       "      <td>0.8710</td>\n",
       "    </tr>\n",
       "    <tr>\n",
       "      <td>RM</td>\n",
       "      <td>506.0</td>\n",
       "      <td>6.284634</td>\n",
       "      <td>0.702617</td>\n",
       "      <td>3.56100</td>\n",
       "      <td>5.885500</td>\n",
       "      <td>6.20850</td>\n",
       "      <td>6.623500</td>\n",
       "      <td>8.7800</td>\n",
       "    </tr>\n",
       "    <tr>\n",
       "      <td>AGE</td>\n",
       "      <td>506.0</td>\n",
       "      <td>68.574901</td>\n",
       "      <td>28.148861</td>\n",
       "      <td>2.90000</td>\n",
       "      <td>45.025000</td>\n",
       "      <td>77.50000</td>\n",
       "      <td>94.075000</td>\n",
       "      <td>100.0000</td>\n",
       "    </tr>\n",
       "    <tr>\n",
       "      <td>DIS</td>\n",
       "      <td>506.0</td>\n",
       "      <td>3.795043</td>\n",
       "      <td>2.105710</td>\n",
       "      <td>1.12960</td>\n",
       "      <td>2.100175</td>\n",
       "      <td>3.20745</td>\n",
       "      <td>5.188425</td>\n",
       "      <td>12.1265</td>\n",
       "    </tr>\n",
       "    <tr>\n",
       "      <td>RAD</td>\n",
       "      <td>506.0</td>\n",
       "      <td>9.549407</td>\n",
       "      <td>8.707259</td>\n",
       "      <td>1.00000</td>\n",
       "      <td>4.000000</td>\n",
       "      <td>5.00000</td>\n",
       "      <td>24.000000</td>\n",
       "      <td>24.0000</td>\n",
       "    </tr>\n",
       "    <tr>\n",
       "      <td>TAX</td>\n",
       "      <td>506.0</td>\n",
       "      <td>408.237154</td>\n",
       "      <td>168.537116</td>\n",
       "      <td>187.00000</td>\n",
       "      <td>279.000000</td>\n",
       "      <td>330.00000</td>\n",
       "      <td>666.000000</td>\n",
       "      <td>711.0000</td>\n",
       "    </tr>\n",
       "    <tr>\n",
       "      <td>PTRATIO</td>\n",
       "      <td>506.0</td>\n",
       "      <td>18.455534</td>\n",
       "      <td>2.164946</td>\n",
       "      <td>12.60000</td>\n",
       "      <td>17.400000</td>\n",
       "      <td>19.05000</td>\n",
       "      <td>20.200000</td>\n",
       "      <td>22.0000</td>\n",
       "    </tr>\n",
       "    <tr>\n",
       "      <td>B</td>\n",
       "      <td>506.0</td>\n",
       "      <td>356.674032</td>\n",
       "      <td>91.294864</td>\n",
       "      <td>0.32000</td>\n",
       "      <td>375.377500</td>\n",
       "      <td>391.44000</td>\n",
       "      <td>396.225000</td>\n",
       "      <td>396.9000</td>\n",
       "    </tr>\n",
       "    <tr>\n",
       "      <td>LSTAT</td>\n",
       "      <td>506.0</td>\n",
       "      <td>12.653063</td>\n",
       "      <td>7.141062</td>\n",
       "      <td>1.73000</td>\n",
       "      <td>6.950000</td>\n",
       "      <td>11.36000</td>\n",
       "      <td>16.955000</td>\n",
       "      <td>37.9700</td>\n",
       "    </tr>\n",
       "    <tr>\n",
       "      <td>MEDV</td>\n",
       "      <td>506.0</td>\n",
       "      <td>22.532806</td>\n",
       "      <td>9.197104</td>\n",
       "      <td>5.00000</td>\n",
       "      <td>17.025000</td>\n",
       "      <td>21.20000</td>\n",
       "      <td>25.000000</td>\n",
       "      <td>50.0000</td>\n",
       "    </tr>\n",
       "  </tbody>\n",
       "</table>\n",
       "</div>"
      ],
      "text/plain": [
       "         count        mean         std        min         25%        50%  \\\n",
       "CRIM     506.0    3.613524    8.601545    0.00632    0.082045    0.25651   \n",
       "ZN       506.0   11.363636   23.322453    0.00000    0.000000    0.00000   \n",
       "INDUS    506.0   11.136779    6.860353    0.46000    5.190000    9.69000   \n",
       "CHAS     506.0    0.069170    0.253994    0.00000    0.000000    0.00000   \n",
       "NOX      506.0    0.554695    0.115878    0.38500    0.449000    0.53800   \n",
       "RM       506.0    6.284634    0.702617    3.56100    5.885500    6.20850   \n",
       "AGE      506.0   68.574901   28.148861    2.90000   45.025000   77.50000   \n",
       "DIS      506.0    3.795043    2.105710    1.12960    2.100175    3.20745   \n",
       "RAD      506.0    9.549407    8.707259    1.00000    4.000000    5.00000   \n",
       "TAX      506.0  408.237154  168.537116  187.00000  279.000000  330.00000   \n",
       "PTRATIO  506.0   18.455534    2.164946   12.60000   17.400000   19.05000   \n",
       "B        506.0  356.674032   91.294864    0.32000  375.377500  391.44000   \n",
       "LSTAT    506.0   12.653063    7.141062    1.73000    6.950000   11.36000   \n",
       "MEDV     506.0   22.532806    9.197104    5.00000   17.025000   21.20000   \n",
       "\n",
       "                75%       max  \n",
       "CRIM       3.677083   88.9762  \n",
       "ZN        12.500000  100.0000  \n",
       "INDUS     18.100000   27.7400  \n",
       "CHAS       0.000000    1.0000  \n",
       "NOX        0.624000    0.8710  \n",
       "RM         6.623500    8.7800  \n",
       "AGE       94.075000  100.0000  \n",
       "DIS        5.188425   12.1265  \n",
       "RAD       24.000000   24.0000  \n",
       "TAX      666.000000  711.0000  \n",
       "PTRATIO   20.200000   22.0000  \n",
       "B        396.225000  396.9000  \n",
       "LSTAT     16.955000   37.9700  \n",
       "MEDV      25.000000   50.0000  "
      ]
     },
     "execution_count": 13,
     "metadata": {},
     "output_type": "execute_result"
    }
   ],
   "source": [
    "pd.set_option('display.max_rows', None)\n",
    "stats = df.describe().transpose()\n",
    "stats"
   ]
  },
  {
   "cell_type": "code",
   "execution_count": 14,
   "metadata": {},
   "outputs": [],
   "source": [
    "pd.set_option('display.max_rows', 10)"
   ]
  },
  {
   "cell_type": "markdown",
   "metadata": {},
   "source": [
    "We can review the descriptions of the attributes to see if there are any interesting relationships to be identified.<br>\n",
    "For example, one might expect that there would be some positive correlation between CRIM and LSTAT attributes, where the crime rate rises as the percentage of lower status residents increases."
   ]
  },
  {
   "cell_type": "code",
   "execution_count": 15,
   "metadata": {},
   "outputs": [
    {
     "data": {
      "text/plain": [
       "<matplotlib.axes._subplots.AxesSubplot at 0x1a44687490>"
      ]
     },
     "execution_count": 15,
     "metadata": {},
     "output_type": "execute_result"
    },
    {
     "data": {
      "image/png": "[encoded data removed]",
      "text/plain": [
       "<Figure size 842.4x595.44 with 1 Axes>"
      ]
     },
     "metadata": {},
     "output_type": "display_data"
    }
   ],
   "source": [
    "sns.scatterplot(x = df['LSTAT'] , y = df['CRIM'])"
   ]
  },
  {
   "cell_type": "markdown",
   "metadata": {},
   "source": [
    "and we can see the above scatterplot shows a moderate positive trend.\n",
    "<br><br>\n",
    "Similarly, we might assume that a lower pupil-teacher ratio might suggest a more affluent neighbourhood and therefore a lower crime rate, so we might also expect to see a positive correlation between PTRATIO and CRIM. However this is not as obvious."
   ]
  },
  {
   "cell_type": "code",
   "execution_count": 16,
   "metadata": {},
   "outputs": [
    {
     "data": {
      "text/plain": [
       "<matplotlib.axes._subplots.AxesSubplot at 0x1a448d1ed0>"
      ]
     },
     "execution_count": 16,
     "metadata": {},
     "output_type": "execute_result"
    },
    {
     "data": {
      "image/png": "[encoded data removed]",
      "text/plain": [
       "<Figure size 842.4x595.44 with 1 Axes>"
      ]
     },
     "metadata": {},
     "output_type": "display_data"
    }
   ],
   "source": [
    "sns.scatterplot(x = df['PTRATIO'] , y = df['CRIM'])"
   ]
  },
  {
   "cell_type": "markdown",
   "metadata": {},
   "source": [
    "Since MEDV, or the Median House Price Value per town will be the target attribute for our prediction later, there are a number of attributes that we could assume might have a great impact on MEDV:\n",
    "<br>\n",
    "- CRIM\n",
    "- ZN\n",
    "- RM\n",
    "- RAD\n",
    "- DIS\n",
    "- PTRATIO\n",
    "- LSTAT\n",
    "\n",
    "The below heatmap indicates the strength of correlation between each pair of attributes\n",
    "\n",
    "### Note\n",
    "The Correlation coefficient is measured on a scale of [-1, 1]\n",
    "- -1 being a perfect negative correlation\n",
    "- +1 being a perfect positive correlation\n",
    "- 0 being no correlation whatsoever"
   ]
  },
  {
   "cell_type": "code",
   "execution_count": 17,
   "metadata": {},
   "outputs": [
    {
     "data": {
      "text/plain": [
       "<matplotlib.axes._subplots.AxesSubplot at 0x1a4461a1d0>"
      ]
     },
     "execution_count": 17,
     "metadata": {},
     "output_type": "execute_result"
    },
    {
     "data": {
      "image/png": "[encoded data removed]",
      "text/plain": [
       "<Figure size 1152x864 with 2 Axes>"
      ]
     },
     "metadata": {},
     "output_type": "display_data"
    }
   ],
   "source": [
    "# https://towardsdatascience.com/linear-regression-on-boston-housing-dataset-f409b7e4a155\n",
    "\n",
    "correlation_matrix = df.corr().round(2)\n",
    "# annot = True to print the values inside the square\n",
    "plt.figure(figsize=(16, 12))\n",
    "sns.heatmap(data=correlation_matrix, annot=True)"
   ]
  },
  {
   "cell_type": "markdown",
   "metadata": {},
   "source": [
    "We can also print the correlation matrix to show us the correlation coefficients for each pair of variables.\n",
    "<br>\n",
    "Here, we can see that the correlation we discussed earlier (CRIM/LSTAT and CRIM/PTRATIO) are 0.46 and 0.29, or moderate positive and weak positive, respectively. This did reflect our scatterplots and the assumptions we made based on them."
   ]
  },
  {
   "cell_type": "code",
   "execution_count": 18,
   "metadata": {},
   "outputs": [
    {
     "data": {
      "text/html": [
       "<div>\n",
       "<style scoped>\n",
       "    .dataframe tbody tr th:only-of-type {\n",
       "        vertical-align: middle;\n",
       "    }\n",
       "\n",
       "    .dataframe tbody tr th {\n",
       "        vertical-align: top;\n",
       "    }\n",
       "\n",
       "    .dataframe thead th {\n",
       "        text-align: right;\n",
       "    }\n",
       "</style>\n",
       "<table border=\"1\" class=\"dataframe\">\n",
       "  <thead>\n",
       "    <tr style=\"text-align: right;\">\n",
       "      <th></th>\n",
       "      <th>CRIM</th>\n",
       "      <th>ZN</th>\n",
       "      <th>INDUS</th>\n",
       "      <th>CHAS</th>\n",
       "      <th>NOX</th>\n",
       "      <th>RM</th>\n",
       "      <th>AGE</th>\n",
       "      <th>DIS</th>\n",
       "      <th>RAD</th>\n",
       "      <th>TAX</th>\n",
       "      <th>PTRATIO</th>\n",
       "      <th>B</th>\n",
       "      <th>LSTAT</th>\n",
       "      <th>MEDV</th>\n",
       "    </tr>\n",
       "  </thead>\n",
       "  <tbody>\n",
       "    <tr>\n",
       "      <td>CRIM</td>\n",
       "      <td>1.00</td>\n",
       "      <td>-0.20</td>\n",
       "      <td>0.41</td>\n",
       "      <td>-0.06</td>\n",
       "      <td>0.42</td>\n",
       "      <td>-0.22</td>\n",
       "      <td>0.35</td>\n",
       "      <td>-0.38</td>\n",
       "      <td>0.63</td>\n",
       "      <td>0.58</td>\n",
       "      <td>0.29</td>\n",
       "      <td>-0.39</td>\n",
       "      <td>0.46</td>\n",
       "      <td>-0.39</td>\n",
       "    </tr>\n",
       "    <tr>\n",
       "      <td>ZN</td>\n",
       "      <td>-0.20</td>\n",
       "      <td>1.00</td>\n",
       "      <td>-0.53</td>\n",
       "      <td>-0.04</td>\n",
       "      <td>-0.52</td>\n",
       "      <td>0.31</td>\n",
       "      <td>-0.57</td>\n",
       "      <td>0.66</td>\n",
       "      <td>-0.31</td>\n",
       "      <td>-0.31</td>\n",
       "      <td>-0.39</td>\n",
       "      <td>0.18</td>\n",
       "      <td>-0.41</td>\n",
       "      <td>0.36</td>\n",
       "    </tr>\n",
       "    <tr>\n",
       "      <td>INDUS</td>\n",
       "      <td>0.41</td>\n",
       "      <td>-0.53</td>\n",
       "      <td>1.00</td>\n",
       "      <td>0.06</td>\n",
       "      <td>0.76</td>\n",
       "      <td>-0.39</td>\n",
       "      <td>0.64</td>\n",
       "      <td>-0.71</td>\n",
       "      <td>0.60</td>\n",
       "      <td>0.72</td>\n",
       "      <td>0.38</td>\n",
       "      <td>-0.36</td>\n",
       "      <td>0.60</td>\n",
       "      <td>-0.48</td>\n",
       "    </tr>\n",
       "    <tr>\n",
       "      <td>CHAS</td>\n",
       "      <td>-0.06</td>\n",
       "      <td>-0.04</td>\n",
       "      <td>0.06</td>\n",
       "      <td>1.00</td>\n",
       "      <td>0.09</td>\n",
       "      <td>0.09</td>\n",
       "      <td>0.09</td>\n",
       "      <td>-0.10</td>\n",
       "      <td>-0.01</td>\n",
       "      <td>-0.04</td>\n",
       "      <td>-0.12</td>\n",
       "      <td>0.05</td>\n",
       "      <td>-0.05</td>\n",
       "      <td>0.18</td>\n",
       "    </tr>\n",
       "    <tr>\n",
       "      <td>NOX</td>\n",
       "      <td>0.42</td>\n",
       "      <td>-0.52</td>\n",
       "      <td>0.76</td>\n",
       "      <td>0.09</td>\n",
       "      <td>1.00</td>\n",
       "      <td>-0.30</td>\n",
       "      <td>0.73</td>\n",
       "      <td>-0.77</td>\n",
       "      <td>0.61</td>\n",
       "      <td>0.67</td>\n",
       "      <td>0.19</td>\n",
       "      <td>-0.38</td>\n",
       "      <td>0.59</td>\n",
       "      <td>-0.43</td>\n",
       "    </tr>\n",
       "    <tr>\n",
       "      <td>...</td>\n",
       "      <td>...</td>\n",
       "      <td>...</td>\n",
       "      <td>...</td>\n",
       "      <td>...</td>\n",
       "      <td>...</td>\n",
       "      <td>...</td>\n",
       "      <td>...</td>\n",
       "      <td>...</td>\n",
       "      <td>...</td>\n",
       "      <td>...</td>\n",
       "      <td>...</td>\n",
       "      <td>...</td>\n",
       "      <td>...</td>\n",
       "      <td>...</td>\n",
       "    </tr>\n",
       "    <tr>\n",
       "      <td>TAX</td>\n",
       "      <td>0.58</td>\n",
       "      <td>-0.31</td>\n",
       "      <td>0.72</td>\n",
       "      <td>-0.04</td>\n",
       "      <td>0.67</td>\n",
       "      <td>-0.29</td>\n",
       "      <td>0.51</td>\n",
       "      <td>-0.53</td>\n",
       "      <td>0.91</td>\n",
       "      <td>1.00</td>\n",
       "      <td>0.46</td>\n",
       "      <td>-0.44</td>\n",
       "      <td>0.54</td>\n",
       "      <td>-0.47</td>\n",
       "    </tr>\n",
       "    <tr>\n",
       "      <td>PTRATIO</td>\n",
       "      <td>0.29</td>\n",
       "      <td>-0.39</td>\n",
       "      <td>0.38</td>\n",
       "      <td>-0.12</td>\n",
       "      <td>0.19</td>\n",
       "      <td>-0.36</td>\n",
       "      <td>0.26</td>\n",
       "      <td>-0.23</td>\n",
       "      <td>0.46</td>\n",
       "      <td>0.46</td>\n",
       "      <td>1.00</td>\n",
       "      <td>-0.18</td>\n",
       "      <td>0.37</td>\n",
       "      <td>-0.51</td>\n",
       "    </tr>\n",
       "    <tr>\n",
       "      <td>B</td>\n",
       "      <td>-0.39</td>\n",
       "      <td>0.18</td>\n",
       "      <td>-0.36</td>\n",
       "      <td>0.05</td>\n",
       "      <td>-0.38</td>\n",
       "      <td>0.13</td>\n",
       "      <td>-0.27</td>\n",
       "      <td>0.29</td>\n",
       "      <td>-0.44</td>\n",
       "      <td>-0.44</td>\n",
       "      <td>-0.18</td>\n",
       "      <td>1.00</td>\n",
       "      <td>-0.37</td>\n",
       "      <td>0.33</td>\n",
       "    </tr>\n",
       "    <tr>\n",
       "      <td>LSTAT</td>\n",
       "      <td>0.46</td>\n",
       "      <td>-0.41</td>\n",
       "      <td>0.60</td>\n",
       "      <td>-0.05</td>\n",
       "      <td>0.59</td>\n",
       "      <td>-0.61</td>\n",
       "      <td>0.60</td>\n",
       "      <td>-0.50</td>\n",
       "      <td>0.49</td>\n",
       "      <td>0.54</td>\n",
       "      <td>0.37</td>\n",
       "      <td>-0.37</td>\n",
       "      <td>1.00</td>\n",
       "      <td>-0.74</td>\n",
       "    </tr>\n",
       "    <tr>\n",
       "      <td>MEDV</td>\n",
       "      <td>-0.39</td>\n",
       "      <td>0.36</td>\n",
       "      <td>-0.48</td>\n",
       "      <td>0.18</td>\n",
       "      <td>-0.43</td>\n",
       "      <td>0.70</td>\n",
       "      <td>-0.38</td>\n",
       "      <td>0.25</td>\n",
       "      <td>-0.38</td>\n",
       "      <td>-0.47</td>\n",
       "      <td>-0.51</td>\n",
       "      <td>0.33</td>\n",
       "      <td>-0.74</td>\n",
       "      <td>1.00</td>\n",
       "    </tr>\n",
       "  </tbody>\n",
       "</table>\n",
       "<p>14 rows × 14 columns</p>\n",
       "</div>"
      ],
      "text/plain": [
       "         CRIM    ZN  INDUS  CHAS   NOX    RM   AGE   DIS   RAD   TAX  PTRATIO  \\\n",
       "CRIM     1.00 -0.20   0.41 -0.06  0.42 -0.22  0.35 -0.38  0.63  0.58     0.29   \n",
       "ZN      -0.20  1.00  -0.53 -0.04 -0.52  0.31 -0.57  0.66 -0.31 -0.31    -0.39   \n",
       "INDUS    0.41 -0.53   1.00  0.06  0.76 -0.39  0.64 -0.71  0.60  0.72     0.38   \n",
       "CHAS    -0.06 -0.04   0.06  1.00  0.09  0.09  0.09 -0.10 -0.01 -0.04    -0.12   \n",
       "NOX      0.42 -0.52   0.76  0.09  1.00 -0.30  0.73 -0.77  0.61  0.67     0.19   \n",
       "...       ...   ...    ...   ...   ...   ...   ...   ...   ...   ...      ...   \n",
       "TAX      0.58 -0.31   0.72 -0.04  0.67 -0.29  0.51 -0.53  0.91  1.00     0.46   \n",
       "PTRATIO  0.29 -0.39   0.38 -0.12  0.19 -0.36  0.26 -0.23  0.46  0.46     1.00   \n",
       "B       -0.39  0.18  -0.36  0.05 -0.38  0.13 -0.27  0.29 -0.44 -0.44    -0.18   \n",
       "LSTAT    0.46 -0.41   0.60 -0.05  0.59 -0.61  0.60 -0.50  0.49  0.54     0.37   \n",
       "MEDV    -0.39  0.36  -0.48  0.18 -0.43  0.70 -0.38  0.25 -0.38 -0.47    -0.51   \n",
       "\n",
       "            B  LSTAT  MEDV  \n",
       "CRIM    -0.39   0.46 -0.39  \n",
       "ZN       0.18  -0.41  0.36  \n",
       "INDUS   -0.36   0.60 -0.48  \n",
       "CHAS     0.05  -0.05  0.18  \n",
       "NOX     -0.38   0.59 -0.43  \n",
       "...       ...    ...   ...  \n",
       "TAX     -0.44   0.54 -0.47  \n",
       "PTRATIO -0.18   0.37 -0.51  \n",
       "B        1.00  -0.37  0.33  \n",
       "LSTAT   -0.37   1.00 -0.74  \n",
       "MEDV     0.33  -0.74  1.00  \n",
       "\n",
       "[14 rows x 14 columns]"
      ]
     },
     "execution_count": 18,
     "metadata": {},
     "output_type": "execute_result"
    }
   ],
   "source": [
    "correlation_matrix"
   ]
  },
  {
   "cell_type": "markdown",
   "metadata": {},
   "source": [
    "If we review the R values for the MEDV column, we can see the strongest correlations are in fact:<br>\n",
    "- RM: 0.70\n",
    "- PTRATIO: -0.51\n",
    "- LSTAT: -0.74\n",
    "\n",
    "There are a number of other attributes with lower moderate correlations, but these three seem to stand out as the predominant factors in calculating the Median Property Values."
   ]
  },
  {
   "cell_type": "markdown",
   "metadata": {},
   "source": [
    "***\n",
    "## Part 2: Inference WRT MEDV based on CHAS"
   ]
  },
  {
   "cell_type": "markdown",
   "metadata": {},
   "source": [
    "We will now look at the dataset to determine whether there is a statistically significant difference between the Median Property Values of houses in areas that sit along the Charles River, and those that do not.\n",
    "\n",
    "The first thing we therefore must do, is to split the dataset into two samples.\n",
    "- first sample will contain records where CHAS = 1 (i.e. area has Charles River as a boundary)\n",
    "- second sample will contain records where CHAS = 0 (i.e. area does not have Charles River as a boundary)"
   ]
  },
  {
   "cell_type": "code",
   "execution_count": 19,
   "metadata": {},
   "outputs": [],
   "source": [
    "df_chas = df[df.CHAS == 1]\n",
    "df_notChas = df[df.CHAS == 0]"
   ]
  },
  {
   "cell_type": "markdown",
   "metadata": {},
   "source": [
    "We can see below that the size of both samples is vastly different."
   ]
  },
  {
   "cell_type": "code",
   "execution_count": 20,
   "metadata": {},
   "outputs": [
    {
     "data": {
      "text/plain": [
       "(35, 14)"
      ]
     },
     "execution_count": 20,
     "metadata": {},
     "output_type": "execute_result"
    }
   ],
   "source": [
    "df_chas.shape"
   ]
  },
  {
   "cell_type": "code",
   "execution_count": 21,
   "metadata": {},
   "outputs": [
    {
     "data": {
      "text/plain": [
       "(471, 14)"
      ]
     },
     "execution_count": 21,
     "metadata": {},
     "output_type": "execute_result"
    }
   ],
   "source": [
    "df_notChas.shape"
   ]
  },
  {
   "cell_type": "markdown",
   "metadata": {},
   "source": [
    "### Hypothesis Testing\n",
    "Firstly we need to set our hypotheses.\n",
    "\n",
    "The hypothesis we want to test for, our **null** hypothesis ($H_{0}$), will be that the mean house price in areas bordering the river is the same as the mean house price in areas that do not border the river.\n",
    "\n",
    "In other words $H_{0}$: $m_{chas}$ = $m_{notChas}$\n",
    "\n",
    "We will carry out a two-sided hypothesis test, which means that we will reject $H_{0}$, if the mean values are not equal to eachother. We are not concerned with whether the river values are specifically greater than, or less than the non-River values.<br>\n",
    "$H_{1}$: $m_{chas} \\neq m_{notChas}$\n",
    "\n",
    "Let's extract the MEDV column from both datasets and investigate"
   ]
  },
  {
   "cell_type": "code",
   "execution_count": 106,
   "metadata": {},
   "outputs": [],
   "source": [
    "chas_list = df_chas[\"MEDV\"]#.tolist()\n",
    "notChas_list = df_notChas[\"MEDV\"]#.tolist()"
   ]
  },
  {
   "cell_type": "code",
   "execution_count": 107,
   "metadata": {},
   "outputs": [
    {
     "data": {
      "image/png": "[encoded data removed]",
      "text/plain": [
       "<Figure size 864x864 with 1 Axes>"
      ]
     },
     "metadata": {},
     "output_type": "display_data"
    }
   ],
   "source": [
    "sns.set_style(\"darkgrid\")\n",
    "plt.figure(figsize=(12, 12))\n",
    "ax1 = sns.distplot(chas_list)\n",
    "ax2 = sns.distplot(notChas_list)"
   ]
  },
  {
   "cell_type": "markdown",
   "metadata": {},
   "source": [
    "From the above plot, it looks as though both sets of values are roughly following a normal distribution, however in both cases, there is a bump in the number of values at the upper end, which may suggest the data is skewed slightly.\n",
    "\n",
    "We can proceed on the basis that the data is sufficiently normally distributed to allow testing on that basis."
   ]
  },
  {
   "cell_type": "markdown",
   "metadata": {},
   "source": [
    "#### T-testing\n",
    "We will first look at the option for testing using a t-test. We have established that the data is sufficiently normal to allow for a valid t-test.\n",
    "\n",
    "The sample sizes are also sufficiently large so as to allow results to be considered significant wrt the respective populations.\n",
    "\n",
    "That said, the sample sizes are relatively small in the larger scheme of things, which is why we will use the t-test method to test our hypothesis.\n",
    "\n",
    "I mentioned earlier that the sample sizes for both data sub-sets were quite different, however, the t-test is not impacted by sample size and so we will continue with our test using the data as it is."
   ]
  },
  {
   "cell_type": "code",
   "execution_count": 108,
   "metadata": {},
   "outputs": [
    {
     "data": {
      "text/plain": [
       "Ttest_indResult(statistic=3.996437466090509, pvalue=7.390623170519905e-05)"
      ]
     },
     "execution_count": 108,
     "metadata": {},
     "output_type": "execute_result"
    }
   ],
   "source": [
    "ss.ttest_ind(chas_list, notChas_list)"
   ]
  },
  {
   "cell_type": "markdown",
   "metadata": {},
   "source": [
    "#### Inference\n",
    "So the p-value generated from this t-test is ~0.00007, which is miniscule. How do we interpret this?\n",
    "\n",
    "In simple terms, the p-value tells us the probability that our hypothesis is accurate for the relevant populations, based on the samples used to carry out the test. Therefore a lower p-value means that there is a lower chance that our null hypothesis is true.\n",
    "\n",
    "It is generally accepted that a p-value of 0.05 (or 5%) is the dividing line that tells us whether to accept or reject our hypothesis.\n",
    "\n",
    "In our case, with p-value of ~0.00007, there is little doubt that we should reject our null hypothesis and accept the alternative.\n",
    "\n",
    "So we are saying that based on our sample data, we **reject the hypothesis** that the average house price in areas bordering the Charles River **is the same as** the average house price in areas that do not border the Charles river."
   ]
  },
  {
   "cell_type": "markdown",
   "metadata": {},
   "source": [
    "#### ANOVA"
   ]
  },
  {
   "cell_type": "code",
   "execution_count": 115,
   "metadata": {},
   "outputs": [
    {
     "data": {
      "text/plain": [
       "F_onewayResult(statistic=15.971512420371962, pvalue=7.390623170520815e-05)"
      ]
     },
     "execution_count": 115,
     "metadata": {},
     "output_type": "execute_result"
    }
   ],
   "source": [
    "result = ss.f_oneway(chas_list, notChas_list)\n",
    "result"
   ]
  },
  {
   "cell_type": "code",
   "execution_count": 116,
   "metadata": {},
   "outputs": [
    {
     "data": {
      "text/plain": [
       "7.390623170520815e-05"
      ]
     },
     "execution_count": 116,
     "metadata": {},
     "output_type": "execute_result"
    }
   ],
   "source": [
    "result.pvalue"
   ]
  },
  {
   "cell_type": "markdown",
   "metadata": {},
   "source": [
    "We can see here that the ANOVA test gives us the same p-value of ~0.00007.\n",
    "This agrees with our t-test result and we can be more confident now in our decision to reject our null hypothesis, having minimised the risk of seeing Type-I or Type-II errors in our decision-making"
   ]
  },
  {
   "cell_type": "markdown",
   "metadata": {},
   "source": [
    "## Part 3: Machine Learning - Model to Predict MEDV"
   ]
  },
  {
   "cell_type": "markdown",
   "metadata": {},
   "source": [
    "After some research, the following points of note have appeared consistently across a number of investigations on the boston dataset.\n",
    "\n",
    "- a number of sources have identified the following variables as key to the calculation of MEDV\n",
    "    - RM\n",
    "    - LSTAT\n",
    "    - PTRATIO\n",
    "\n",
    "This seems to reinforce the findings in section 1 of this notebook, that these three variable are the ones with the strongest correlation to MEDV.\n",
    "\n",
    "**References**\n",
    "https://www.ritchieng.com/machine-learning-project-boston-home-prices/\n"
   ]
  },
  {
   "cell_type": "markdown",
   "metadata": {},
   "source": [
    "Let's remind ourselves again, with regression plots to visualise the correlations"
   ]
  },
  {
   "cell_type": "code",
   "execution_count": 25,
   "metadata": {},
   "outputs": [
    {
     "data": {
      "image/png": "[encoded data removed]",
      "text/plain": [
       "<Figure size 842.4x595.44 with 1 Axes>"
      ]
     },
     "metadata": {},
     "output_type": "display_data"
    }
   ],
   "source": [
    "sns.regplot(x=\"RM\", y=\"MEDV\", data=df);"
   ]
  },
  {
   "cell_type": "code",
   "execution_count": 26,
   "metadata": {},
   "outputs": [
    {
     "data": {
      "image/png": "[encoded data removed]",
      "text/plain": [
       "<Figure size 842.4x595.44 with 1 Axes>"
      ]
     },
     "metadata": {},
     "output_type": "display_data"
    }
   ],
   "source": [
    "sns.regplot(x=\"LSTAT\", y=\"MEDV\", data=df);"
   ]
  },
  {
   "cell_type": "code",
   "execution_count": 27,
   "metadata": {},
   "outputs": [
    {
     "data": {
      "image/png": "[encoded data removed]",
      "text/plain": [
       "<Figure size 842.4x595.44 with 1 Axes>"
      ]
     },
     "metadata": {},
     "output_type": "display_data"
    }
   ],
   "source": [
    "sns.regplot(x=\"PTRATIO\", y=\"MEDV\", data=df);"
   ]
  },
  {
   "cell_type": "markdown",
   "metadata": {},
   "source": [
    "Based on our descriptive statistics discussion, we will use the strongest indicators for MEDV to build our neural network and prediction model.\n",
    "\n",
    "In addition, we inferred that proximity to the Charles River does have an impact on house prices in an area, so we will include CHAS in our model also.\n",
    "\n",
    "Let's create the dataset that we will use for our prediction"
   ]
  },
  {
   "cell_type": "code",
   "execution_count": 28,
   "metadata": {},
   "outputs": [],
   "source": [
    "# df = pd.DataFrame(boston.data)\n",
    "# df.columns = boston.feature_names\n",
    "# df[\"MEDV\"] = boston.target\n",
    "\n",
    "# # df = df[['RM', 'LSTAT', 'PTRATIO', 'CHAS', 'MEDV']]\n",
    "# # df = df[['RM', 'LSTAT', 'PTRATIO', 'MEDV']]\n",
    "\n",
    "# df.head()"
   ]
  },
  {
   "cell_type": "markdown",
   "metadata": {},
   "source": [
    "### Preprocessing\n",
    "***\n",
    "#### Fitting and Transforming"
   ]
  },
  {
   "cell_type": "code",
   "execution_count": 53,
   "metadata": {},
   "outputs": [],
   "source": [
    "# inputs = df[['RM', 'LSTAT', 'PTRATIO', 'CHAS']]\n",
    "inputs = df[['RM', 'LSTAT', 'PTRATIO']]\n",
    "output = df['MEDV']"
   ]
  },
  {
   "cell_type": "code",
   "execution_count": 54,
   "metadata": {},
   "outputs": [],
   "source": [
    "x_train, x_test, y_train, y_test = mod.train_test_split(inputs, output, test_size = 0.2)"
   ]
  },
  {
   "cell_type": "markdown",
   "metadata": {},
   "source": [
    "#### Initial Attempt\n",
    "***\n",
    "First, we will build a model using our three strongly correlated variable\n",
    "No scaling or whitening is applied to the inputs<br>\n",
    "The model will have an input and output layer only<br>\n",
    "test varying neurons and input activations"
   ]
  },
  {
   "cell_type": "code",
   "execution_count": 55,
   "metadata": {},
   "outputs": [],
   "source": [
    "# create a new neural network\n",
    "m = kr.models.Sequential()\n",
    "\n",
    "# input layer - 3 inputs, X neurons ... trial & error\n",
    "m.add(kr.layers.Dense(256, input_dim=3, activation='relu'))\n",
    "\n",
    "# output layer - single property value, so linear activation\n",
    "m.add(kr.layers.Dense(1, activation='linear'))\n",
    "\n",
    "# compile the model with mean_absolute_error loss function and adam optimizer\n",
    "# https://machinelearningmastery.com/how-to-choose-loss-functions-when-training-deep-learning-neural-networks/\n",
    "m.compile(loss ='mean_absolute_error', optimizer ='adam', metrics = ['accuracy'])"
   ]
  },
  {
   "cell_type": "code",
   "execution_count": 56,
   "metadata": {},
   "outputs": [
    {
     "name": "stdout",
     "output_type": "stream",
     "text": [
      "Epoch 1/50\n",
      "404/404 [==============================] - 0s 927us/step - loss: 19.0225 - accuracy: 0.0000e+00\n",
      "Epoch 2/50\n",
      "404/404 [==============================] - 0s 44us/step - loss: 12.4069 - accuracy: 0.0025\n",
      "Epoch 3/50\n",
      "404/404 [==============================] - 0s 44us/step - loss: 9.6006 - accuracy: 0.0050\n",
      "Epoch 4/50\n",
      "404/404 [==============================] - 0s 42us/step - loss: 8.9179 - accuracy: 0.0000e+00\n",
      "Epoch 5/50\n",
      "404/404 [==============================] - 0s 43us/step - loss: 8.1954 - accuracy: 0.0149\n",
      "Epoch 6/50\n",
      "404/404 [==============================] - 0s 42us/step - loss: 7.3804 - accuracy: 0.0050\n",
      "Epoch 7/50\n",
      "404/404 [==============================] - 0s 44us/step - loss: 6.6227 - accuracy: 0.0050\n",
      "Epoch 8/50\n",
      "404/404 [==============================] - 0s 47us/step - loss: 6.0829 - accuracy: 0.0074\n",
      "Epoch 9/50\n",
      "404/404 [==============================] - 0s 45us/step - loss: 5.7602 - accuracy: 0.0124\n",
      "Epoch 10/50\n",
      "404/404 [==============================] - 0s 43us/step - loss: 5.5053 - accuracy: 0.0025\n",
      "Epoch 11/50\n",
      "404/404 [==============================] - 0s 41us/step - loss: 5.3522 - accuracy: 0.0099\n",
      "Epoch 12/50\n",
      "404/404 [==============================] - 0s 44us/step - loss: 5.2938 - accuracy: 0.0050\n",
      "Epoch 13/50\n",
      "404/404 [==============================] - 0s 46us/step - loss: 5.1383 - accuracy: 0.0050\n",
      "Epoch 14/50\n",
      "404/404 [==============================] - 0s 45us/step - loss: 5.0763 - accuracy: 0.0099\n",
      "Epoch 15/50\n",
      "404/404 [==============================] - 0s 44us/step - loss: 4.9966 - accuracy: 0.0124\n",
      "Epoch 16/50\n",
      "404/404 [==============================] - 0s 40us/step - loss: 4.9258 - accuracy: 0.0099\n",
      "Epoch 17/50\n",
      "404/404 [==============================] - 0s 47us/step - loss: 4.8779 - accuracy: 0.0124\n",
      "Epoch 18/50\n",
      "404/404 [==============================] - 0s 46us/step - loss: 4.8216 - accuracy: 0.0074\n",
      "Epoch 19/50\n",
      "404/404 [==============================] - 0s 45us/step - loss: 4.7684 - accuracy: 0.0149\n",
      "Epoch 20/50\n",
      "404/404 [==============================] - 0s 42us/step - loss: 4.7411 - accuracy: 0.0050\n",
      "Epoch 21/50\n",
      "404/404 [==============================] - 0s 44us/step - loss: 4.6614 - accuracy: 0.0074\n",
      "Epoch 22/50\n",
      "404/404 [==============================] - 0s 47us/step - loss: 4.6752 - accuracy: 0.0025\n",
      "Epoch 23/50\n",
      "404/404 [==============================] - 0s 43us/step - loss: 4.5955 - accuracy: 0.0050\n",
      "Epoch 24/50\n",
      "404/404 [==============================] - 0s 43us/step - loss: 4.5387 - accuracy: 0.0074\n",
      "Epoch 25/50\n",
      "404/404 [==============================] - 0s 46us/step - loss: 4.4597 - accuracy: 0.0074\n",
      "Epoch 26/50\n",
      "404/404 [==============================] - 0s 44us/step - loss: 4.4291 - accuracy: 0.0124\n",
      "Epoch 27/50\n",
      "404/404 [==============================] - 0s 43us/step - loss: 4.3986 - accuracy: 0.0074\n",
      "Epoch 28/50\n",
      "404/404 [==============================] - 0s 41us/step - loss: 4.3548 - accuracy: 0.0050\n",
      "Epoch 29/50\n",
      "404/404 [==============================] - 0s 45us/step - loss: 4.3039 - accuracy: 0.0074\n",
      "Epoch 30/50\n",
      "404/404 [==============================] - 0s 39us/step - loss: 4.2396 - accuracy: 0.0074\n",
      "Epoch 31/50\n",
      "404/404 [==============================] - 0s 44us/step - loss: 4.2337 - accuracy: 0.0074\n",
      "Epoch 32/50\n",
      "404/404 [==============================] - 0s 43us/step - loss: 4.1478 - accuracy: 0.0124\n",
      "Epoch 33/50\n",
      "404/404 [==============================] - 0s 40us/step - loss: 4.1171 - accuracy: 0.0074\n",
      "Epoch 34/50\n",
      "404/404 [==============================] - 0s 45us/step - loss: 4.0953 - accuracy: 0.0050\n",
      "Epoch 35/50\n",
      "404/404 [==============================] - 0s 43us/step - loss: 4.0776 - accuracy: 0.0074\n",
      "Epoch 36/50\n",
      "404/404 [==============================] - 0s 42us/step - loss: 4.0278 - accuracy: 0.0074\n",
      "Epoch 37/50\n",
      "404/404 [==============================] - 0s 45us/step - loss: 4.0579 - accuracy: 0.0050\n",
      "Epoch 38/50\n",
      "404/404 [==============================] - 0s 40us/step - loss: 4.0770 - accuracy: 0.0050\n",
      "Epoch 39/50\n",
      "404/404 [==============================] - 0s 45us/step - loss: 4.0164 - accuracy: 0.0074\n",
      "Epoch 40/50\n",
      "404/404 [==============================] - 0s 46us/step - loss: 3.9152 - accuracy: 0.0050\n",
      "Epoch 41/50\n",
      "404/404 [==============================] - 0s 40us/step - loss: 3.8762 - accuracy: 0.0050\n",
      "Epoch 42/50\n",
      "404/404 [==============================] - 0s 46us/step - loss: 3.8591 - accuracy: 0.0074\n",
      "Epoch 43/50\n",
      "404/404 [==============================] - 0s 44us/step - loss: 3.7661 - accuracy: 0.0099\n",
      "Epoch 44/50\n",
      "404/404 [==============================] - 0s 42us/step - loss: 3.7314 - accuracy: 0.0099\n",
      "Epoch 45/50\n",
      "404/404 [==============================] - 0s 46us/step - loss: 3.6990 - accuracy: 0.0099\n",
      "Epoch 46/50\n",
      "404/404 [==============================] - 0s 40us/step - loss: 3.6562 - accuracy: 0.0099\n",
      "Epoch 47/50\n",
      "404/404 [==============================] - 0s 42us/step - loss: 3.6551 - accuracy: 0.0099\n",
      "Epoch 48/50\n",
      "404/404 [==============================] - 0s 46us/step - loss: 3.7212 - accuracy: 0.0173\n",
      "Epoch 49/50\n",
      "404/404 [==============================] - 0s 42us/step - loss: 3.8031 - accuracy: 0.0025\n",
      "Epoch 50/50\n",
      "404/404 [==============================] - 0s 45us/step - loss: 3.7224 - accuracy: 0.0050\n"
     ]
    },
    {
     "data": {
      "text/plain": [
       "<keras.callbacks.callbacks.History at 0x1a446939d0>"
      ]
     },
     "execution_count": 56,
     "metadata": {},
     "output_type": "execute_result"
    }
   ],
   "source": [
    "# train the model\n",
    "m.fit(x_train, y_train, epochs = 50, batch_size=30)"
   ]
  },
  {
   "cell_type": "code",
   "execution_count": 57,
   "metadata": {},
   "outputs": [
    {
     "data": {
      "text/plain": [
       "array([[16.7, 17.9, 23.6, 14.1, 28.5, 20.7, 16.9, 37.8, 20.8, 29.8, 26.2,\n",
       "        12.3, 34.1, 32.1, 23. , 14.4, 15.8, 32.1, 11.4, 19.8, 37. , 18.2,\n",
       "        15.5, 31.6, 28.1, 27.5, 23.2, 13.7, 22.3, 22. , 27.6, 20.4, 25.8,\n",
       "        19.9, 15.2, 14.2, 21.1, 12.4, 40.4, 16.5, 27.8, 32.9, 26.4, 23.9,\n",
       "        21.3, 20. , 18.3, 18.1, 27.3, 17.8, 13.7, 27.2, 23.4, 15.6, 33.1,\n",
       "        21.3, 15.7, 32.2, 20.3, 27.3, 38.9, 21.1, 34.7, 22.4, 11.3, 22.1,\n",
       "        19.8, 29.9, 19. , 27.6, 25.3, 22.5,  9.9, 16.8, 25.7, 22.8, 19. ,\n",
       "        29.7, 31.1, 38.1, 27.1, 22.8, 26.7, 29.3, 31.3, 30.7, 11. , 17.7,\n",
       "        19.9, 17.6, 15.9, 21.5, 32.1, 30.7, 23.6, 34.2, 16.8, 28.6, 25.2,\n",
       "        18.1, 16.7, 19.8]], dtype=float32)"
      ]
     },
     "execution_count": 57,
     "metadata": {},
     "output_type": "execute_result"
    }
   ],
   "source": [
    "y_predicted = m.predict(x_test).round(1).T\n",
    "y_predicted"
   ]
  },
  {
   "cell_type": "code",
   "execution_count": 58,
   "metadata": {},
   "outputs": [
    {
     "data": {
      "text/plain": [
       "array([13.9, 12.1, 25. , 17.2, 28.4, 22.7, 17.8, 43.8, 22.9, 24.6, 27.5,\n",
       "       14.6, 32. , 31.6, 16.1,  6.3, 19.1, 35.4, 10.2, 20.6, 45.4, 14.6,\n",
       "       21.9, 23.6, 23.9, 20.6, 18.5,  7. , 19.2, 22.6, 27. , 23.8, 23.4,\n",
       "       13.1, 13.3,  8.4, 17.7,  9.7, 21.9, 11. , 33.8, 50. , 25. , 23.9,\n",
       "       21.4, 19.7, 18.7, 15. , 25.3, 13.5,  8.5, 29. , 23. , 18.5, 37.9,\n",
       "       19.5,  8.7, 29. , 20.1, 23.3, 50. , 22.2, 50. , 18.9, 23.1, 21.7,\n",
       "       20.3, 22. , 18.3, 24.2, 28.7, 19.6, 11.9, 15.3, 23.2, 19.2, 17.4,\n",
       "       24.1, 27.9, 38.7, 31. , 19.6, 26.7, 32.5, 43.1, 28. , 13.8, 19.8,\n",
       "       19.6, 15.2, 14. , 19.4, 34.9, 29.1, 24.3, 34.7, 12.7, 22.2, 22. ,\n",
       "       10.9, 13.1, 20. ])"
      ]
     },
     "execution_count": 58,
     "metadata": {},
     "output_type": "execute_result"
    }
   ],
   "source": [
    "y_test.to_numpy()"
   ]
  },
  {
   "cell_type": "code",
   "execution_count": 59,
   "metadata": {},
   "outputs": [
    {
     "name": "stdout",
     "output_type": "stream",
     "text": [
      "102/102 [==============================] - 0s 748us/step\n"
     ]
    },
    {
     "data": {
      "text/plain": [
       "[3.7087233300302542, 0.019607843831181526]"
      ]
     },
     "execution_count": 59,
     "metadata": {},
     "output_type": "execute_result"
    }
   ],
   "source": [
    "m.evaluate(x_test, y_test)"
   ]
  },
  {
   "cell_type": "markdown",
   "metadata": {},
   "source": [
    "predict loss value almost identical to trained loss value\n",
    "However at almost 4.0, can probably do better.\n",
    "\n",
    "comparing some values in the test and predicted y sets, most price values are a few thousand off."
   ]
  },
  {
   "cell_type": "markdown",
   "metadata": {},
   "source": [
    "#### Second Attempt - With Scaling"
   ]
  },
  {
   "cell_type": "code",
   "execution_count": 65,
   "metadata": {},
   "outputs": [],
   "source": [
    "x_train, x_test, y_train, y_test = mod.train_test_split(inputs, output, test_size = 0.2)"
   ]
  },
  {
   "cell_type": "code",
   "execution_count": 66,
   "metadata": {},
   "outputs": [],
   "source": [
    "# run each x-value through the neural network\n",
    "# scaler = pre.MinMaxScaler()\n",
    "scaler = pre.StandardScaler()\n",
    "scaler.fit(x_train)\n",
    "x_train_scaled = scaler.transform(x_train)"
   ]
  },
  {
   "cell_type": "code",
   "execution_count": 67,
   "metadata": {},
   "outputs": [],
   "source": [
    "# create a new neural network\n",
    "m = kr.models.Sequential()\n",
    "\n",
    "# input layer - 3 inputs, X neurons ... trial & error\n",
    "m.add(kr.layers.Dense(256, input_dim=3, activation='relu'))\n",
    "\n",
    "# output layer - single property value, so linear activation\n",
    "m.add(kr.layers.Dense(1, activation='linear'))\n",
    "\n",
    "# compile the model\n",
    "# https://machinelearningmastery.com/how-to-choose-loss-functions-when-training-deep-learning-neural-networks/\n",
    "m.compile(loss ='mean_absolute_error', optimizer ='adam', metrics = ['accuracy'])"
   ]
  },
  {
   "cell_type": "code",
   "execution_count": 68,
   "metadata": {},
   "outputs": [
    {
     "name": "stdout",
     "output_type": "stream",
     "text": [
      "Epoch 1/50\n",
      "404/404 [==============================] - 0s 925us/step - loss: 22.3042 - accuracy: 0.0000e+00\n",
      "Epoch 2/50\n",
      "404/404 [==============================] - 0s 27us/step - loss: 21.9525 - accuracy: 0.0000e+00\n",
      "Epoch 3/50\n",
      "404/404 [==============================] - 0s 32us/step - loss: 21.6025 - accuracy: 0.0000e+00\n",
      "Epoch 4/50\n",
      "404/404 [==============================] - 0s 29us/step - loss: 21.2330 - accuracy: 0.0000e+00\n",
      "Epoch 5/50\n",
      "404/404 [==============================] - 0s 29us/step - loss: 20.8448 - accuracy: 0.0000e+00\n",
      "Epoch 6/50\n",
      "404/404 [==============================] - 0s 32us/step - loss: 20.4054 - accuracy: 0.0000e+00\n",
      "Epoch 7/50\n",
      "404/404 [==============================] - 0s 27us/step - loss: 19.9210 - accuracy: 0.0050\n",
      "Epoch 8/50\n",
      "404/404 [==============================] - 0s 32us/step - loss: 19.3978 - accuracy: 0.0025\n",
      "Epoch 9/50\n",
      "404/404 [==============================] - 0s 29us/step - loss: 18.8136 - accuracy: 0.0000e+00\n",
      "Epoch 10/50\n",
      "404/404 [==============================] - 0s 31us/step - loss: 18.1956 - accuracy: 0.0000e+00\n",
      "Epoch 11/50\n",
      "404/404 [==============================] - 0s 27us/step - loss: 17.5318 - accuracy: 0.0025\n",
      "Epoch 12/50\n",
      "404/404 [==============================] - 0s 33us/step - loss: 16.8112 - accuracy: 0.0000e+00\n",
      "Epoch 13/50\n",
      "404/404 [==============================] - 0s 29us/step - loss: 16.0584 - accuracy: 0.0000e+00\n",
      "Epoch 14/50\n",
      "404/404 [==============================] - 0s 30us/step - loss: 15.3051 - accuracy: 0.0000e+00\n",
      "Epoch 15/50\n",
      "404/404 [==============================] - 0s 27us/step - loss: 14.4717 - accuracy: 0.0000e+00\n",
      "Epoch 16/50\n",
      "404/404 [==============================] - 0s 32us/step - loss: 13.5825 - accuracy: 0.0000e+00\n",
      "Epoch 17/50\n",
      "404/404 [==============================] - 0s 30us/step - loss: 12.6748 - accuracy: 0.0000e+00\n",
      "Epoch 18/50\n",
      "404/404 [==============================] - 0s 30us/step - loss: 11.6832 - accuracy: 0.0000e+00\n",
      "Epoch 19/50\n",
      "404/404 [==============================] - 0s 31us/step - loss: 10.6369 - accuracy: 0.0050\n",
      "Epoch 20/50\n",
      "404/404 [==============================] - 0s 28us/step - loss: 9.5157 - accuracy: 0.0025\n",
      "Epoch 21/50\n",
      "404/404 [==============================] - 0s 33us/step - loss: 8.3344 - accuracy: 0.0000e+00\n",
      "Epoch 22/50\n",
      "404/404 [==============================] - 0s 28us/step - loss: 7.2077 - accuracy: 0.0025\n",
      "Epoch 23/50\n",
      "404/404 [==============================] - 0s 33us/step - loss: 6.2411 - accuracy: 0.0025\n",
      "Epoch 24/50\n",
      "404/404 [==============================] - 0s 28us/step - loss: 5.4941 - accuracy: 0.0025\n",
      "Epoch 25/50\n",
      "404/404 [==============================] - 0s 31us/step - loss: 4.9494 - accuracy: 0.0050\n",
      "Epoch 26/50\n",
      "404/404 [==============================] - 0s 27us/step - loss: 4.6132 - accuracy: 0.0074\n",
      "Epoch 27/50\n",
      "404/404 [==============================] - 0s 31us/step - loss: 4.3352 - accuracy: 0.0099\n",
      "Epoch 28/50\n",
      "404/404 [==============================] - 0s 29us/step - loss: 4.0934 - accuracy: 0.0099\n",
      "Epoch 29/50\n",
      "404/404 [==============================] - 0s 31us/step - loss: 3.9200 - accuracy: 0.0099\n",
      "Epoch 30/50\n",
      "404/404 [==============================] - 0s 27us/step - loss: 3.7678 - accuracy: 0.0173\n",
      "Epoch 31/50\n",
      "404/404 [==============================] - 0s 33us/step - loss: 3.6703 - accuracy: 0.0074\n",
      "Epoch 32/50\n",
      "404/404 [==============================] - 0s 28us/step - loss: 3.5844 - accuracy: 0.0074\n",
      "Epoch 33/50\n",
      "404/404 [==============================] - 0s 32us/step - loss: 3.5152 - accuracy: 0.0074\n",
      "Epoch 34/50\n",
      "404/404 [==============================] - 0s 26us/step - loss: 3.4589 - accuracy: 0.0124\n",
      "Epoch 35/50\n",
      "404/404 [==============================] - 0s 33us/step - loss: 3.4150 - accuracy: 0.0124\n",
      "Epoch 36/50\n",
      "404/404 [==============================] - 0s 28us/step - loss: 3.3677 - accuracy: 0.0124\n",
      "Epoch 37/50\n",
      "404/404 [==============================] - 0s 34us/step - loss: 3.3440 - accuracy: 0.0124\n",
      "Epoch 38/50\n",
      "404/404 [==============================] - 0s 28us/step - loss: 3.2997 - accuracy: 0.0173\n",
      "Epoch 39/50\n",
      "404/404 [==============================] - 0s 33us/step - loss: 3.2564 - accuracy: 0.0173\n",
      "Epoch 40/50\n",
      "404/404 [==============================] - 0s 27us/step - loss: 3.2221 - accuracy: 0.0198\n",
      "Epoch 41/50\n",
      "404/404 [==============================] - 0s 33us/step - loss: 3.1940 - accuracy: 0.0223\n",
      "Epoch 42/50\n",
      "404/404 [==============================] - 0s 28us/step - loss: 3.1616 - accuracy: 0.0173\n",
      "Epoch 43/50\n",
      "404/404 [==============================] - 0s 32us/step - loss: 3.1312 - accuracy: 0.0124\n",
      "Epoch 44/50\n",
      "404/404 [==============================] - 0s 27us/step - loss: 3.1106 - accuracy: 0.0173\n",
      "Epoch 45/50\n",
      "404/404 [==============================] - 0s 32us/step - loss: 3.0879 - accuracy: 0.0173\n",
      "Epoch 46/50\n",
      "404/404 [==============================] - 0s 27us/step - loss: 3.0602 - accuracy: 0.0149\n",
      "Epoch 47/50\n",
      "404/404 [==============================] - 0s 33us/step - loss: 3.0472 - accuracy: 0.0173\n",
      "Epoch 48/50\n",
      "404/404 [==============================] - 0s 29us/step - loss: 3.0271 - accuracy: 0.0149\n",
      "Epoch 49/50\n",
      "404/404 [==============================] - 0s 32us/step - loss: 3.0095 - accuracy: 0.0173\n",
      "Epoch 50/50\n",
      "404/404 [==============================] - 0s 27us/step - loss: 2.9943 - accuracy: 0.0149\n"
     ]
    },
    {
     "data": {
      "text/plain": [
       "<keras.callbacks.callbacks.History at 0x1a46b05510>"
      ]
     },
     "execution_count": 68,
     "metadata": {},
     "output_type": "execute_result"
    }
   ],
   "source": [
    "# train the model\n",
    "# inputs, outputs, no. of runs, and batch size per run\n",
    "m.fit(x_train_scaled, y_train, epochs = 50, batch_size=50)"
   ]
  },
  {
   "cell_type": "code",
   "execution_count": 69,
   "metadata": {},
   "outputs": [
    {
     "data": {
      "text/plain": [
       "array([[25., 16., 21., 12., 25., 19., 19., 11., 22., 23., 29., 25., 16.,\n",
       "        27., 27., 19., 24., 29., 14., 14., 21., 14., 47., 12., 12., 18.,\n",
       "        17., 30., 16., 33., 12., 16., 28., 21., 47., 14., 35., 29., 12.,\n",
       "        12., 15., 16., 24., 19., 11., 14., 23., 24., 12., 21., 31., 21.,\n",
       "        22., 18., 26., 14., 25., 22., 14., 17., 12., 14., 28., 21., 19.,\n",
       "        17., 14., 23., 18., 21., 24., 14., 25., 30., 14., 41., 22., 24.,\n",
       "        20., 28., 22., 45., 14., 22., 45., 19., 12., 29., 28., 22., 39.,\n",
       "        12., 16., 22., 17., 32., 23., 36., 28., 14., 22., 34.]],\n",
       "      dtype=float32)"
      ]
     },
     "execution_count": 69,
     "metadata": {},
     "output_type": "execute_result"
    }
   ],
   "source": [
    "x_test_scaled = scaler.transform(x_test)\n",
    "m.predict(x_test_scaled).round().T"
   ]
  },
  {
   "cell_type": "code",
   "execution_count": 70,
   "metadata": {},
   "outputs": [
    {
     "name": "stderr",
     "output_type": "stream",
     "text": [
      "/opt/anaconda3/lib/python3.7/site-packages/ipykernel_launcher.py:1: FutureWarning: Method .as_matrix will be removed in a future version. Use .values instead.\n",
      "  \"\"\"Entry point for launching an IPython kernel.\n"
     ]
    },
    {
     "data": {
      "text/plain": [
       "array([22.3, 19.5, 18.7, 22.5, 20.6, 20.1, 22.7, 23.7, 18.5, 20.4, 29.4,\n",
       "       22.8, 16.8, 24.4, 24.6, 15. , 23.8, 29.9, 14.1, 16.3, 17. , 13.3,\n",
       "       50. ,  5. , 20.5, 21.7, 13.8, 31.5, 17.4, 33.1, 20. , 18.7, 25. ,\n",
       "       19.6, 50. , 13.8, 31.5, 28. , 18.8, 21.7, 17.9, 19.1, 21.6, 19.6,\n",
       "       19.3, 15.4, 19.4, 23.6, 13.9, 15.3, 32.2, 18.2, 21.1, 17.1, 27.5,\n",
       "       14.6, 21.9, 36.2, 14.4, 18.5, 19.7, 15.2, 23.3, 23.2, 21.8, 17.5,\n",
       "       15.6, 21.4, 19.5, 20.3, 25.1, 16.7, 50. , 36.1, 13.6, 38.7, 20.4,\n",
       "       21.6, 16.1, 27. , 20.5, 50. , 16.1, 22.7, 50. , 19.4,  8.8, 22.5,\n",
       "       32.5, 20.6, 50. , 11.3, 24.5, 23.8, 19.9, 50. , 29.8, 36.5, 33. ,\n",
       "       13.8, 19.9, 34.9], dtype=float32)"
      ]
     },
     "execution_count": 70,
     "metadata": {},
     "output_type": "execute_result"
    }
   ],
   "source": [
    "y_test.as_matrix().astype(np.float32)"
   ]
  },
  {
   "cell_type": "code",
   "execution_count": 71,
   "metadata": {},
   "outputs": [
    {
     "name": "stdout",
     "output_type": "stream",
     "text": [
      "102/102 [==============================] - 0s 751us/step\n"
     ]
    },
    {
     "data": {
      "text/plain": [
       "[3.4493121867086374, 0.0]"
      ]
     },
     "execution_count": 71,
     "metadata": {},
     "output_type": "execute_result"
    }
   ],
   "source": [
    "m.evaluate(x_test_scaled, y_test)"
   ]
  },
  {
   "cell_type": "markdown",
   "metadata": {},
   "source": [
    "Training gets our loss value down below 3.0 (2.99), but with predicted vs test loss value still above 3.44, our prediction model is still showing quite a large variance between prediction and test y values"
   ]
  },
  {
   "cell_type": "markdown",
   "metadata": {},
   "source": [
    "#### Third Attempt - with Whitening"
   ]
  },
  {
   "cell_type": "code",
   "execution_count": 72,
   "metadata": {},
   "outputs": [],
   "source": [
    "inputs = df[['RM', 'LSTAT', 'PTRATIO']]\n",
    "output = df['MEDV']"
   ]
  },
  {
   "cell_type": "code",
   "execution_count": 73,
   "metadata": {},
   "outputs": [],
   "source": [
    "x_train, x_test, y_train, y_test = mod.train_test_split(inputs, output, test_size = 0.2)"
   ]
  },
  {
   "cell_type": "code",
   "execution_count": 74,
   "metadata": {},
   "outputs": [
    {
     "data": {
      "text/plain": [
       "array([[-0.88549339, -0.95410874,  0.37827203],\n",
       "       [-1.10799172,  0.95920902,  0.03326187],\n",
       "       [-1.15562496,  2.27542575, -3.416409  ],\n",
       "       ...,\n",
       "       [ 0.86835607, -0.47206877, -1.58681093],\n",
       "       [-0.83550053, -0.67590682, -0.20982453],\n",
       "       [ 0.95416424, -0.43960673, -1.05948972]])"
      ]
     },
     "execution_count": 74,
     "metadata": {},
     "output_type": "execute_result"
    }
   ],
   "source": [
    "# pca = dec.PCA(n_components=4, whiten=True) \n",
    "pca = dec.PCA(n_components=3, whiten=True) \n",
    "pca.fit(x_train)\n",
    "pca.transform(x_train)"
   ]
  },
  {
   "cell_type": "code",
   "execution_count": 75,
   "metadata": {},
   "outputs": [],
   "source": [
    "# create a new neural network\n",
    "m = kr.models.Sequential()\n",
    "\n",
    "# input layer - 3 inputs, X neurons ... trial & error\n",
    "m.add(kr.layers.Dense(256, input_dim=3, activation='relu'))\n",
    "\n",
    "# output layer - single property value, so linear activation\n",
    "m.add(kr.layers.Dense(1, activation='linear'))\n",
    "\n",
    "# compile the model\n",
    "# https://machinelearningmastery.com/how-to-choose-loss-functions-when-training-deep-learning-neural-networks/\n",
    "m.compile(loss ='mean_absolute_error', optimizer ='adam', metrics = ['accuracy'])"
   ]
  },
  {
   "cell_type": "code",
   "execution_count": 76,
   "metadata": {},
   "outputs": [
    {
     "name": "stdout",
     "output_type": "stream",
     "text": [
      "Epoch 1/100\n",
      "404/404 [==============================] - 0s 927us/step - loss: 20.2994 - accuracy: 0.0000e+00\n",
      "Epoch 2/100\n",
      "404/404 [==============================] - 0s 26us/step - loss: 15.5230 - accuracy: 0.0025\n",
      "Epoch 3/100\n",
      "404/404 [==============================] - 0s 31us/step - loss: 11.6828 - accuracy: 0.0000e+00\n",
      "Epoch 4/100\n",
      "404/404 [==============================] - 0s 27us/step - loss: 9.7244 - accuracy: 0.0025\n",
      "Epoch 5/100\n",
      "404/404 [==============================] - 0s 31us/step - loss: 8.9834 - accuracy: 0.0000e+00\n",
      "Epoch 6/100\n",
      "404/404 [==============================] - 0s 31us/step - loss: 8.5064 - accuracy: 0.0050\n",
      "Epoch 7/100\n",
      "404/404 [==============================] - 0s 28us/step - loss: 7.9675 - accuracy: 0.0025\n",
      "Epoch 8/100\n",
      "404/404 [==============================] - 0s 31us/step - loss: 7.4822 - accuracy: 0.0050\n",
      "Epoch 9/100\n",
      "404/404 [==============================] - 0s 28us/step - loss: 6.9530 - accuracy: 0.0050\n",
      "Epoch 10/100\n",
      "404/404 [==============================] - 0s 32us/step - loss: 6.4953 - accuracy: 0.0025\n",
      "Epoch 11/100\n",
      "404/404 [==============================] - 0s 26us/step - loss: 6.0692 - accuracy: 0.0050\n",
      "Epoch 12/100\n",
      "404/404 [==============================] - 0s 32us/step - loss: 5.7705 - accuracy: 0.0074\n",
      "Epoch 13/100\n",
      "404/404 [==============================] - 0s 26us/step - loss: 5.5800 - accuracy: 0.0074\n",
      "Epoch 14/100\n",
      "404/404 [==============================] - 0s 31us/step - loss: 5.3917 - accuracy: 0.0025\n",
      "Epoch 15/100\n",
      "404/404 [==============================] - 0s 28us/step - loss: 5.2495 - accuracy: 0.0099\n",
      "Epoch 16/100\n",
      "404/404 [==============================] - 0s 30us/step - loss: 5.1451 - accuracy: 0.0074\n",
      "Epoch 17/100\n",
      "404/404 [==============================] - 0s 26us/step - loss: 5.0208 - accuracy: 0.0149\n",
      "Epoch 18/100\n",
      "404/404 [==============================] - 0s 30us/step - loss: 4.9496 - accuracy: 0.0074\n",
      "Epoch 19/100\n",
      "404/404 [==============================] - 0s 26us/step - loss: 4.9245 - accuracy: 0.0074\n",
      "Epoch 20/100\n",
      "404/404 [==============================] - 0s 30us/step - loss: 4.8282 - accuracy: 0.0124\n",
      "Epoch 21/100\n",
      "404/404 [==============================] - 0s 26us/step - loss: 4.8079 - accuracy: 0.0149\n",
      "Epoch 22/100\n",
      "404/404 [==============================] - 0s 27us/step - loss: 4.7746 - accuracy: 0.0074\n",
      "Epoch 23/100\n",
      "404/404 [==============================] - 0s 30us/step - loss: 4.7401 - accuracy: 0.0173\n",
      "Epoch 24/100\n",
      "404/404 [==============================] - 0s 26us/step - loss: 4.6856 - accuracy: 0.0149\n",
      "Epoch 25/100\n",
      "404/404 [==============================] - 0s 27us/step - loss: 4.7046 - accuracy: 0.0050\n",
      "Epoch 26/100\n",
      "404/404 [==============================] - 0s 29us/step - loss: 4.5963 - accuracy: 0.0099\n",
      "Epoch 27/100\n",
      "404/404 [==============================] - 0s 26us/step - loss: 4.6337 - accuracy: 0.0149\n",
      "Epoch 28/100\n",
      "404/404 [==============================] - 0s 31us/step - loss: 4.5500 - accuracy: 0.0050\n",
      "Epoch 29/100\n",
      "404/404 [==============================] - 0s 26us/step - loss: 4.5678 - accuracy: 0.0050\n",
      "Epoch 30/100\n",
      "404/404 [==============================] - 0s 30us/step - loss: 4.4885 - accuracy: 0.0149\n",
      "Epoch 31/100\n",
      "404/404 [==============================] - 0s 28us/step - loss: 4.5120 - accuracy: 0.0124\n",
      "Epoch 32/100\n",
      "404/404 [==============================] - 0s 31us/step - loss: 4.4655 - accuracy: 0.0074\n",
      "Epoch 33/100\n",
      "404/404 [==============================] - 0s 28us/step - loss: 4.3997 - accuracy: 0.0124\n",
      "Epoch 34/100\n",
      "404/404 [==============================] - 0s 29us/step - loss: 4.4166 - accuracy: 0.0124\n",
      "Epoch 35/100\n",
      "404/404 [==============================] - 0s 27us/step - loss: 4.3431 - accuracy: 0.0223\n",
      "Epoch 36/100\n",
      "404/404 [==============================] - 0s 27us/step - loss: 4.3291 - accuracy: 0.0025\n",
      "Epoch 37/100\n",
      "404/404 [==============================] - 0s 33us/step - loss: 4.2704 - accuracy: 0.0099\n",
      "Epoch 38/100\n",
      "404/404 [==============================] - 0s 27us/step - loss: 4.3347 - accuracy: 0.0173\n",
      "Epoch 39/100\n",
      "404/404 [==============================] - 0s 33us/step - loss: 4.2467 - accuracy: 0.0149\n",
      "Epoch 40/100\n",
      "404/404 [==============================] - 0s 27us/step - loss: 4.2550 - accuracy: 0.0149\n",
      "Epoch 41/100\n",
      "404/404 [==============================] - 0s 31us/step - loss: 4.1703 - accuracy: 0.0173\n",
      "Epoch 42/100\n",
      "404/404 [==============================] - 0s 27us/step - loss: 4.1593 - accuracy: 0.0149\n",
      "Epoch 43/100\n",
      "404/404 [==============================] - 0s 27us/step - loss: 4.1652 - accuracy: 0.0050\n",
      "Epoch 44/100\n",
      "404/404 [==============================] - 0s 29us/step - loss: 4.1123 - accuracy: 0.0149\n",
      "Epoch 45/100\n",
      "404/404 [==============================] - 0s 27us/step - loss: 4.1291 - accuracy: 0.0124\n",
      "Epoch 46/100\n",
      "404/404 [==============================] - 0s 31us/step - loss: 4.0678 - accuracy: 0.0149\n",
      "Epoch 47/100\n",
      "404/404 [==============================] - 0s 27us/step - loss: 4.1089 - accuracy: 0.0173\n",
      "Epoch 48/100\n",
      "404/404 [==============================] - 0s 27us/step - loss: 4.1145 - accuracy: 0.0099\n",
      "Epoch 49/100\n",
      "404/404 [==============================] - 0s 31us/step - loss: 4.0374 - accuracy: 0.0124\n",
      "Epoch 50/100\n",
      "404/404 [==============================] - 0s 26us/step - loss: 3.9690 - accuracy: 0.0198\n",
      "Epoch 51/100\n",
      "404/404 [==============================] - 0s 27us/step - loss: 3.9823 - accuracy: 0.0050\n",
      "Epoch 52/100\n",
      "404/404 [==============================] - 0s 31us/step - loss: 3.9376 - accuracy: 0.0074\n",
      "Epoch 53/100\n",
      "404/404 [==============================] - 0s 27us/step - loss: 3.9412 - accuracy: 0.0198\n",
      "Epoch 54/100\n",
      "404/404 [==============================] - 0s 26us/step - loss: 3.9249 - accuracy: 0.0074\n",
      "Epoch 55/100\n",
      "404/404 [==============================] - 0s 34us/step - loss: 3.8682 - accuracy: 0.0099\n",
      "Epoch 56/100\n",
      "404/404 [==============================] - 0s 27us/step - loss: 3.8977 - accuracy: 0.0099\n",
      "Epoch 57/100\n",
      "404/404 [==============================] - 0s 27us/step - loss: 3.8340 - accuracy: 0.0149\n",
      "Epoch 58/100\n",
      "404/404 [==============================] - 0s 31us/step - loss: 3.8983 - accuracy: 0.0124\n",
      "Epoch 59/100\n",
      "404/404 [==============================] - 0s 26us/step - loss: 3.7853 - accuracy: 0.0149\n",
      "Epoch 60/100\n",
      "404/404 [==============================] - 0s 27us/step - loss: 3.9469 - accuracy: 0.0099\n",
      "Epoch 61/100\n",
      "404/404 [==============================] - 0s 31us/step - loss: 3.8402 - accuracy: 0.0025\n",
      "Epoch 62/100\n",
      "404/404 [==============================] - 0s 32us/step - loss: 3.7581 - accuracy: 0.0248\n",
      "Epoch 63/100\n",
      "404/404 [==============================] - 0s 29us/step - loss: 3.7155 - accuracy: 0.0149\n",
      "Epoch 64/100\n",
      "404/404 [==============================] - 0s 32us/step - loss: 3.7078 - accuracy: 0.0173\n",
      "Epoch 65/100\n",
      "404/404 [==============================] - 0s 30us/step - loss: 3.7289 - accuracy: 0.0124\n",
      "Epoch 66/100\n",
      "404/404 [==============================] - 0s 30us/step - loss: 3.7827 - accuracy: 0.0173\n",
      "Epoch 67/100\n",
      "404/404 [==============================] - 0s 30us/step - loss: 3.7050 - accuracy: 0.0124\n",
      "Epoch 68/100\n",
      "404/404 [==============================] - 0s 29us/step - loss: 3.6961 - accuracy: 0.0173\n",
      "Epoch 69/100\n",
      "404/404 [==============================] - 0s 28us/step - loss: 3.6158 - accuracy: 0.0173\n",
      "Epoch 70/100\n",
      "404/404 [==============================] - 0s 30us/step - loss: 3.6130 - accuracy: 0.0173\n",
      "Epoch 71/100\n",
      "404/404 [==============================] - 0s 30us/step - loss: 3.5706 - accuracy: 0.0124\n",
      "Epoch 72/100\n",
      "404/404 [==============================] - 0s 29us/step - loss: 3.5919 - accuracy: 0.0149\n",
      "Epoch 73/100\n",
      "404/404 [==============================] - 0s 29us/step - loss: 3.5458 - accuracy: 0.0173\n",
      "Epoch 74/100\n",
      "404/404 [==============================] - 0s 29us/step - loss: 3.5514 - accuracy: 0.0099\n",
      "Epoch 75/100\n",
      "404/404 [==============================] - 0s 32us/step - loss: 3.5480 - accuracy: 0.0074\n",
      "Epoch 76/100\n",
      "404/404 [==============================] - 0s 31us/step - loss: 3.4999 - accuracy: 0.0124\n",
      "Epoch 77/100\n",
      "404/404 [==============================] - 0s 29us/step - loss: 3.5097 - accuracy: 0.0173\n",
      "Epoch 78/100\n",
      "404/404 [==============================] - 0s 27us/step - loss: 3.5044 - accuracy: 0.0099\n",
      "Epoch 79/100\n",
      "404/404 [==============================] - 0s 30us/step - loss: 3.4500 - accuracy: 0.0099\n",
      "Epoch 80/100\n"
     ]
    },
    {
     "name": "stdout",
     "output_type": "stream",
     "text": [
      "404/404 [==============================] - 0s 31us/step - loss: 3.5088 - accuracy: 0.0149\n",
      "Epoch 81/100\n",
      "404/404 [==============================] - 0s 31us/step - loss: 3.5033 - accuracy: 0.0099\n",
      "Epoch 82/100\n",
      "404/404 [==============================] - 0s 29us/step - loss: 3.4738 - accuracy: 0.0074\n",
      "Epoch 83/100\n",
      "404/404 [==============================] - 0s 32us/step - loss: 3.4536 - accuracy: 0.0099\n",
      "Epoch 84/100\n",
      "404/404 [==============================] - 0s 30us/step - loss: 3.4178 - accuracy: 0.0124\n",
      "Epoch 85/100\n",
      "404/404 [==============================] - 0s 31us/step - loss: 3.3831 - accuracy: 0.0099\n",
      "Epoch 86/100\n",
      "404/404 [==============================] - 0s 31us/step - loss: 3.3748 - accuracy: 0.0025\n",
      "Epoch 87/100\n",
      "404/404 [==============================] - 0s 27us/step - loss: 3.3920 - accuracy: 0.0173\n",
      "Epoch 88/100\n",
      "404/404 [==============================] - 0s 27us/step - loss: 3.3961 - accuracy: 0.0099\n",
      "Epoch 89/100\n",
      "404/404 [==============================] - 0s 30us/step - loss: 3.3537 - accuracy: 0.0149\n",
      "Epoch 90/100\n",
      "404/404 [==============================] - 0s 29us/step - loss: 3.3565 - accuracy: 0.0050\n",
      "Epoch 91/100\n",
      "404/404 [==============================] - 0s 27us/step - loss: 3.3359 - accuracy: 0.0149\n",
      "Epoch 92/100\n",
      "404/404 [==============================] - 0s 27us/step - loss: 3.2998 - accuracy: 0.0124\n",
      "Epoch 93/100\n",
      "404/404 [==============================] - 0s 29us/step - loss: 3.2923 - accuracy: 0.0099\n",
      "Epoch 94/100\n",
      "404/404 [==============================] - 0s 27us/step - loss: 3.3698 - accuracy: 0.0124\n",
      "Epoch 95/100\n",
      "404/404 [==============================] - 0s 27us/step - loss: 3.4312 - accuracy: 0.0149\n",
      "Epoch 96/100\n",
      "404/404 [==============================] - 0s 27us/step - loss: 3.3186 - accuracy: 0.0198\n",
      "Epoch 97/100\n",
      "404/404 [==============================] - 0s 29us/step - loss: 3.3304 - accuracy: 0.0074\n",
      "Epoch 98/100\n",
      "404/404 [==============================] - 0s 27us/step - loss: 3.2650 - accuracy: 0.0149\n",
      "Epoch 99/100\n",
      "404/404 [==============================] - 0s 26us/step - loss: 3.2443 - accuracy: 0.0124\n",
      "Epoch 100/100\n",
      "404/404 [==============================] - 0s 28us/step - loss: 3.2916 - accuracy: 0.0074\n"
     ]
    },
    {
     "data": {
      "text/plain": [
       "<keras.callbacks.callbacks.History at 0x1a46c30f10>"
      ]
     },
     "execution_count": 76,
     "metadata": {},
     "output_type": "execute_result"
    }
   ],
   "source": [
    "# train the model\n",
    "# inputs, outputs, no. of runs, and batch size per run\n",
    "m.fit(x_train, y_train, epochs = 100, batch_size=50)"
   ]
  },
  {
   "cell_type": "code",
   "execution_count": 77,
   "metadata": {},
   "outputs": [
    {
     "data": {
      "text/plain": [
       "array([[25., 21., 14., 19., 14., 28., 14., 16., 30., 37., 21., 21., 23.,\n",
       "        16., 40., 17., 14., 28., 21., 18., 16., 36., 17., 13., 19., 28.,\n",
       "        17., 23., 31., 13., 30.,  9., 25., 18., 18., 25., 21., 14., 18.,\n",
       "        22., 32., 32., 19., 27., 17., 22., 38., 18., 36., 20., 19., 11.,\n",
       "        33., 13., 12., 21., 17., 23., 20., 15., 38., 18., 21., 25., 12.,\n",
       "        13., 30., 23., 39., 14., 27., 18., 18., 15., 26., 24., 24., 22.,\n",
       "        20., 15., 25., 32., 12., 38., 28., 28., 25., 19., 23., 16., 24.,\n",
       "        20., 13., 18., 26., 21., 21., 16., 37., 15., 13., 16.]],\n",
       "      dtype=float32)"
      ]
     },
     "execution_count": 77,
     "metadata": {},
     "output_type": "execute_result"
    }
   ],
   "source": [
    "# run each x-value through the neural network\n",
    "pca.transform(x_test)\n",
    "m.predict(x_test).round().T"
   ]
  },
  {
   "cell_type": "code",
   "execution_count": 78,
   "metadata": {},
   "outputs": [
    {
     "name": "stderr",
     "output_type": "stream",
     "text": [
      "/opt/anaconda3/lib/python3.7/site-packages/ipykernel_launcher.py:1: FutureWarning: Method .as_matrix will be removed in a future version. Use .values instead.\n",
      "  \"\"\"Entry point for launching an IPython kernel.\n"
     ]
    },
    {
     "data": {
      "text/plain": [
       "array([[ 7.313, 13.44 , 20.2  ],\n",
       "       [ 5.875,  8.88 , 20.2  ],\n",
       "       [ 5.747, 19.92 , 20.2  ],\n",
       "       [ 6.251, 14.19 , 20.2  ],\n",
       "       [ 5.701, 18.35 , 21.   ],\n",
       "       [ 6.29 ,  4.67 , 16.1  ],\n",
       "       [ 5.67 , 17.6  , 19.2  ],\n",
       "       [ 5.569, 15.1  , 19.2  ],\n",
       "       [ 7.236,  6.93 , 18.4  ],\n",
       "       [ 7.82 ,  3.76 , 14.9  ],\n",
       "       [ 5.885,  8.79 , 18.9  ],\n",
       "       [ 6.096, 10.26 , 21.   ],\n",
       "       [ 6.402, 11.32 , 14.7  ],\n",
       "       [ 5.961, 17.93 , 19.1  ],\n",
       "       [ 8.725,  4.63 , 17.4  ],\n",
       "       [ 6.824, 22.74 , 20.2  ],\n",
       "       [ 5.599, 16.51 , 21.   ],\n",
       "       [ 6.794,  6.48 , 21.   ],\n",
       "       [ 5.961,  9.88 , 19.2  ],\n",
       "       [ 6.114, 14.98 , 20.2  ],\n",
       "       [ 5.807, 16.03 , 18.6  ],\n",
       "       [ 8.297,  7.44 , 13.   ],\n",
       "       [ 5.786, 14.15 , 17.9  ],\n",
       "       [ 5.454, 18.06 , 20.1  ],\n",
       "       [ 5.963, 13.45 , 16.8  ],\n",
       "       [ 7.104,  8.05 , 18.6  ],\n",
       "       [ 5.709, 15.79 , 14.7  ],\n",
       "       [ 6.031,  7.83 , 16.9  ],\n",
       "       [ 6.874,  4.61 , 17.6  ],\n",
       "       [ 5.683, 22.98 , 20.2  ],\n",
       "       [ 7.007,  5.5  , 17.8  ],\n",
       "       [ 4.368, 30.63 , 20.2  ],\n",
       "       [ 6.24 ,  6.59 , 18.6  ],\n",
       "       [ 5.92 , 13.65 , 18.6  ],\n",
       "       [ 5.362, 10.19 , 20.2  ],\n",
       "       [ 6.715, 10.16 , 17.8  ],\n",
       "       [ 6.176, 12.04 , 17.8  ],\n",
       "       [ 5.957, 20.62 , 20.2  ],\n",
       "       [ 6.471, 17.12 , 20.2  ],\n",
       "       [ 6.115,  9.43 , 16.8  ],\n",
       "       [ 7.185,  5.39 , 15.2  ],\n",
       "       [ 6.957,  3.53 , 19.1  ],\n",
       "       [ 5.762, 10.42 , 20.2  ],\n",
       "       [ 6.49 ,  5.98 , 19.7  ],\n",
       "       [ 5.79 , 15.84 , 16.   ],\n",
       "       [ 6.108,  9.16 , 19.1  ],\n",
       "       [ 7.489,  1.73 , 14.7  ],\n",
       "       [ 5.965, 13.83 , 21.   ],\n",
       "       [ 7.831,  4.45 , 17.8  ],\n",
       "       [ 6.229, 13.11 , 20.2  ],\n",
       "       [ 6.202, 14.52 , 20.2  ],\n",
       "       [ 5.036, 25.68 , 20.2  ],\n",
       "       [ 6.998,  2.94 , 18.7  ],\n",
       "       [ 4.903, 29.29 , 14.7  ],\n",
       "       [ 5.277, 30.81 , 20.2  ],\n",
       "       [ 5.85 ,  8.77 , 19.2  ],\n",
       "       [ 5.928, 15.76 , 17.8  ],\n",
       "       [ 6.286,  8.94 , 18.7  ],\n",
       "       [ 5.787, 10.24 , 16.1  ],\n",
       "       [ 6.38 , 23.69 , 20.2  ],\n",
       "       [ 8.398,  5.91 , 13.   ],\n",
       "       [ 6.004, 14.27 , 19.1  ],\n",
       "       [ 5.868,  9.97 , 16.9  ],\n",
       "       [ 6.54 ,  8.65 , 15.9  ],\n",
       "       [ 5.   , 31.99 , 20.2  ],\n",
       "       [ 5.818, 22.11 , 20.2  ],\n",
       "       [ 6.739,  4.69 , 15.2  ],\n",
       "       [ 6.382, 10.36 , 18.4  ],\n",
       "       [ 7.802,  1.92 , 14.7  ],\n",
       "       [ 5.813, 19.88 , 21.   ],\n",
       "       [ 6.696,  7.18 , 17.6  ],\n",
       "       [ 5.727, 11.28 , 21.   ],\n",
       "       [ 6.525, 18.13 , 20.2  ],\n",
       "       [ 5.757, 17.31 , 21.2  ],\n",
       "       [ 6.456,  6.73 , 19.7  ],\n",
       "       [ 6.398,  7.79 , 20.2  ],\n",
       "       [ 6.145,  6.86 , 19.7  ],\n",
       "       [ 5.878,  8.1  , 18.9  ],\n",
       "       [ 5.88 , 12.03 , 14.7  ],\n",
       "       [ 6.162, 24.1  , 20.2  ],\n",
       "       [ 6.302,  6.72 , 19.   ],\n",
       "       [ 7.241,  5.49 , 15.5  ],\n",
       "       [ 3.561,  7.12 , 20.2  ],\n",
       "       [ 7.923,  3.16 , 13.6  ],\n",
       "       [ 6.86 ,  6.92 , 16.6  ],\n",
       "       [ 6.782,  6.68 , 15.2  ],\n",
       "       [ 6.211,  6.21 , 18.2  ],\n",
       "       [ 6.127, 14.09 , 20.9  ],\n",
       "       [ 6.127,  8.58 , 16.   ],\n",
       "       [ 6.434, 29.05 , 20.2  ],\n",
       "       [ 6.421,  9.14 , 17.8  ],\n",
       "       [ 6.009, 13.27 , 15.2  ],\n",
       "       [ 5.412, 29.55 , 18.6  ],\n",
       "       [ 6.193, 15.17 , 20.2  ],\n",
       "       [ 6.169,  5.81 , 17.9  ],\n",
       "       [ 6.232, 12.34 , 18.7  ],\n",
       "       [ 5.972,  9.97 , 18.4  ],\n",
       "       [ 5.713, 14.76 , 20.2  ],\n",
       "       [ 7.853,  3.81 , 14.7  ],\n",
       "       [ 6.051, 18.76 , 20.2  ],\n",
       "       [ 5.531, 27.38 , 20.2  ],\n",
       "       [ 5.631, 29.93 , 15.2  ]], dtype=float32)"
      ]
     },
     "execution_count": 78,
     "metadata": {},
     "output_type": "execute_result"
    }
   ],
   "source": [
    "x_test.as_matrix().astype(np.float32)"
   ]
  },
  {
   "cell_type": "code",
   "execution_count": 79,
   "metadata": {},
   "outputs": [
    {
     "name": "stdout",
     "output_type": "stream",
     "text": [
      "102/102 [==============================] - 0s 715us/step\n"
     ]
    },
    {
     "data": {
      "text/plain": [
       "[3.981313798941818, 0.029411764815449715]"
      ]
     },
     "execution_count": 79,
     "metadata": {},
     "output_type": "execute_result"
    }
   ],
   "source": [
    "m.evaluate(x_test, y_test)"
   ]
  },
  {
   "cell_type": "markdown",
   "metadata": {},
   "source": [
    "Whitening the data seems to have given us worse results than the previous cases, so we will discount whitening as part of our preprocessing strategygives worse results in this case<br>\n",
    "***\n",
    "\n",
    "### Other Modifications\n",
    "Let's try adding some hidden layers and looking at the whole dataset, all 13 variables again, to see if we can get any better results"
   ]
  },
  {
   "cell_type": "code",
   "execution_count": 90,
   "metadata": {},
   "outputs": [],
   "source": [
    "# inputs = df[['RM', 'LSTAT', 'PTRATIO']]\n",
    "inputs = df.drop(columns=['MEDV'])\n",
    "output = df['MEDV']"
   ]
  },
  {
   "cell_type": "code",
   "execution_count": 91,
   "metadata": {},
   "outputs": [],
   "source": [
    "x_train, x_test, y_train, y_test = mod.train_test_split(inputs, output, test_size = 0.2)"
   ]
  },
  {
   "cell_type": "code",
   "execution_count": 92,
   "metadata": {},
   "outputs": [],
   "source": [
    "# create a new neural network\n",
    "m = kr.models.Sequential()\n",
    "\n",
    "# input layer - 3 inputs, X neurons ... trial & error\n",
    "m.add(kr.layers.Dense(256, input_dim=13, activation='relu'))\n",
    "\n",
    "# hidden layers ... best tested outcome\n",
    "m.add(kr.layers.Dense(128, activation='relu'))\n",
    "m.add(kr.layers.Dense(64, activation='relu'))\n",
    "\n",
    "# output layer - single property value, so linear activation\n",
    "m.add(kr.layers.Dense(1, activation='linear'))\n",
    "\n",
    "# compile the model\n",
    "# https://machinelearningmastery.com/how-to-choose-loss-functions-when-training-deep-learning-neural-networks/\n",
    "m.compile(loss ='mean_absolute_error', optimizer ='adam', metrics = ['accuracy'])"
   ]
  },
  {
   "cell_type": "code",
   "execution_count": 93,
   "metadata": {},
   "outputs": [],
   "source": [
    "# run each x-value through the neural network\n",
    "# scaler = pre.MinMaxScaler()\n",
    "scaler = pre.StandardScaler()\n",
    "scaler.fit(x_train)\n",
    "x_train_scaled = scaler.transform(x_train)"
   ]
  },
  {
   "cell_type": "code",
   "execution_count": 94,
   "metadata": {},
   "outputs": [
    {
     "name": "stdout",
     "output_type": "stream",
     "text": [
      "Epoch 1/400\n",
      "404/404 [==============================] - 1s 2ms/step - loss: 19.6506 - accuracy: 0.0000e+00\n",
      "Epoch 2/400\n",
      "404/404 [==============================] - 0s 134us/step - loss: 8.8484 - accuracy: 0.0000e+00\n",
      "Epoch 3/400\n",
      "404/404 [==============================] - 0s 131us/step - loss: 4.3376 - accuracy: 0.0173\n",
      "Epoch 4/400\n",
      "404/404 [==============================] - 0s 135us/step - loss: 3.2722 - accuracy: 0.0223\n",
      "Epoch 5/400\n",
      "404/404 [==============================] - 0s 142us/step - loss: 3.0720 - accuracy: 0.0099\n",
      "Epoch 6/400\n",
      "404/404 [==============================] - 0s 141us/step - loss: 2.7288 - accuracy: 0.0223\n",
      "Epoch 7/400\n",
      "404/404 [==============================] - 0s 135us/step - loss: 2.6255 - accuracy: 0.0223\n",
      "Epoch 8/400\n",
      "404/404 [==============================] - 0s 135us/step - loss: 2.5407 - accuracy: 0.0050\n",
      "Epoch 9/400\n",
      "404/404 [==============================] - 0s 132us/step - loss: 2.4193 - accuracy: 0.0371\n",
      "Epoch 10/400\n",
      "404/404 [==============================] - 0s 135us/step - loss: 2.5388 - accuracy: 0.0149\n",
      "Epoch 11/400\n",
      "404/404 [==============================] - 0s 136us/step - loss: 2.4494 - accuracy: 0.0272\n",
      "Epoch 12/400\n",
      "404/404 [==============================] - 0s 132us/step - loss: 2.4331 - accuracy: 0.0149\n",
      "Epoch 13/400\n",
      "404/404 [==============================] - 0s 135us/step - loss: 2.2762 - accuracy: 0.0223\n",
      "Epoch 14/400\n",
      "404/404 [==============================] - 0s 134us/step - loss: 2.3564 - accuracy: 0.0248\n",
      "Epoch 15/400\n",
      "404/404 [==============================] - 0s 133us/step - loss: 2.2373 - accuracy: 0.0248\n",
      "Epoch 16/400\n",
      "404/404 [==============================] - 0s 135us/step - loss: 2.1873 - accuracy: 0.0149\n",
      "Epoch 17/400\n",
      "404/404 [==============================] - 0s 135us/step - loss: 2.2015 - accuracy: 0.0223\n",
      "Epoch 18/400\n",
      "404/404 [==============================] - 0s 134us/step - loss: 2.2521 - accuracy: 0.0173\n",
      "Epoch 19/400\n",
      "404/404 [==============================] - 0s 141us/step - loss: 2.0495 - accuracy: 0.0223\n",
      "Epoch 20/400\n",
      "404/404 [==============================] - 0s 144us/step - loss: 2.1842 - accuracy: 0.0248\n",
      "Epoch 21/400\n",
      "404/404 [==============================] - 0s 139us/step - loss: 2.1112 - accuracy: 0.0173\n",
      "Epoch 22/400\n",
      "404/404 [==============================] - 0s 142us/step - loss: 1.9762 - accuracy: 0.0297\n",
      "Epoch 23/400\n",
      "404/404 [==============================] - 0s 145us/step - loss: 2.0705 - accuracy: 0.0223\n",
      "Epoch 24/400\n",
      "404/404 [==============================] - 0s 145us/step - loss: 1.9842 - accuracy: 0.0198\n",
      "Epoch 25/400\n",
      "404/404 [==============================] - 0s 142us/step - loss: 1.9046 - accuracy: 0.0272\n",
      "Epoch 26/400\n",
      "404/404 [==============================] - 0s 141us/step - loss: 1.9843 - accuracy: 0.0272\n",
      "Epoch 27/400\n",
      "404/404 [==============================] - 0s 141us/step - loss: 1.9077 - accuracy: 0.0322\n",
      "Epoch 28/400\n",
      "404/404 [==============================] - 0s 141us/step - loss: 1.8800 - accuracy: 0.0272\n",
      "Epoch 29/400\n",
      "404/404 [==============================] - 0s 136us/step - loss: 1.8367 - accuracy: 0.0272\n",
      "Epoch 30/400\n",
      "404/404 [==============================] - 0s 143us/step - loss: 1.8377 - accuracy: 0.0173\n",
      "Epoch 31/400\n",
      "404/404 [==============================] - 0s 140us/step - loss: 1.8632 - accuracy: 0.0322\n",
      "Epoch 32/400\n",
      "404/404 [==============================] - 0s 142us/step - loss: 1.9231 - accuracy: 0.0272\n",
      "Epoch 33/400\n",
      "404/404 [==============================] - 0s 140us/step - loss: 1.7910 - accuracy: 0.0272\n",
      "Epoch 34/400\n",
      "404/404 [==============================] - 0s 140us/step - loss: 1.8859 - accuracy: 0.0347\n",
      "Epoch 35/400\n",
      "404/404 [==============================] - 0s 134us/step - loss: 1.7623 - accuracy: 0.0272\n",
      "Epoch 36/400\n",
      "404/404 [==============================] - 0s 139us/step - loss: 1.8128 - accuracy: 0.0347\n",
      "Epoch 37/400\n",
      "404/404 [==============================] - 0s 134us/step - loss: 1.8541 - accuracy: 0.0173\n",
      "Epoch 38/400\n",
      "404/404 [==============================] - 0s 139us/step - loss: 1.9067 - accuracy: 0.0297\n",
      "Epoch 39/400\n",
      "404/404 [==============================] - 0s 136us/step - loss: 1.7857 - accuracy: 0.0272\n",
      "Epoch 40/400\n",
      "404/404 [==============================] - 0s 133us/step - loss: 1.6861 - accuracy: 0.0198\n",
      "Epoch 41/400\n",
      "404/404 [==============================] - 0s 140us/step - loss: 1.7611 - accuracy: 0.0272\n",
      "Epoch 42/400\n",
      "404/404 [==============================] - 0s 135us/step - loss: 1.6641 - accuracy: 0.0396\n",
      "Epoch 43/400\n",
      "404/404 [==============================] - 0s 139us/step - loss: 1.5954 - accuracy: 0.0371\n",
      "Epoch 44/400\n",
      "404/404 [==============================] - 0s 140us/step - loss: 1.6393 - accuracy: 0.0297\n",
      "Epoch 45/400\n",
      "404/404 [==============================] - 0s 135us/step - loss: 1.6196 - accuracy: 0.0173\n",
      "Epoch 46/400\n",
      "404/404 [==============================] - 0s 140us/step - loss: 1.5641 - accuracy: 0.0495\n",
      "Epoch 47/400\n",
      "404/404 [==============================] - 0s 133us/step - loss: 1.5406 - accuracy: 0.0248\n",
      "Epoch 48/400\n",
      "404/404 [==============================] - 0s 140us/step - loss: 1.7181 - accuracy: 0.0446\n",
      "Epoch 49/400\n",
      "404/404 [==============================] - 0s 137us/step - loss: 1.8906 - accuracy: 0.0173\n",
      "Epoch 50/400\n",
      "404/404 [==============================] - 0s 132us/step - loss: 1.6482 - accuracy: 0.0198\n",
      "Epoch 51/400\n",
      "404/404 [==============================] - 0s 139us/step - loss: 1.6129 - accuracy: 0.0470\n",
      "Epoch 52/400\n",
      "404/404 [==============================] - 0s 141us/step - loss: 1.6998 - accuracy: 0.0297\n",
      "Epoch 53/400\n",
      "404/404 [==============================] - 0s 145us/step - loss: 1.5104 - accuracy: 0.0446\n",
      "Epoch 54/400\n",
      "404/404 [==============================] - 0s 136us/step - loss: 1.4631 - accuracy: 0.0322\n",
      "Epoch 55/400\n",
      "404/404 [==============================] - 0s 129us/step - loss: 1.4344 - accuracy: 0.0446\n",
      "Epoch 56/400\n",
      "404/404 [==============================] - 0s 129us/step - loss: 1.5477 - accuracy: 0.0272\n",
      "Epoch 57/400\n",
      "404/404 [==============================] - 0s 135us/step - loss: 1.4631 - accuracy: 0.0322\n",
      "Epoch 58/400\n",
      "404/404 [==============================] - 0s 128us/step - loss: 1.5754 - accuracy: 0.0347\n",
      "Epoch 59/400\n",
      "404/404 [==============================] - 0s 129us/step - loss: 1.4919 - accuracy: 0.0421\n",
      "Epoch 60/400\n",
      "404/404 [==============================] - 0s 129us/step - loss: 1.5437 - accuracy: 0.0248\n",
      "Epoch 61/400\n",
      "404/404 [==============================] - 0s 134us/step - loss: 1.4182 - accuracy: 0.0421\n",
      "Epoch 62/400\n",
      "404/404 [==============================] - 0s 130us/step - loss: 1.4219 - accuracy: 0.0495\n",
      "Epoch 63/400\n",
      "404/404 [==============================] - 0s 132us/step - loss: 1.4626 - accuracy: 0.0371\n",
      "Epoch 64/400\n",
      "404/404 [==============================] - 0s 130us/step - loss: 1.3306 - accuracy: 0.0446\n",
      "Epoch 65/400\n",
      "404/404 [==============================] - 0s 136us/step - loss: 1.3901 - accuracy: 0.0396\n",
      "Epoch 66/400\n",
      "404/404 [==============================] - 0s 131us/step - loss: 1.4113 - accuracy: 0.0446\n",
      "Epoch 67/400\n",
      "404/404 [==============================] - 0s 130us/step - loss: 1.3705 - accuracy: 0.0421\n",
      "Epoch 68/400\n",
      "404/404 [==============================] - 0s 135us/step - loss: 1.4784 - accuracy: 0.0396\n",
      "Epoch 69/400\n",
      "404/404 [==============================] - 0s 130us/step - loss: 1.4475 - accuracy: 0.0297\n",
      "Epoch 70/400\n",
      "404/404 [==============================] - 0s 129us/step - loss: 1.4056 - accuracy: 0.0347\n",
      "Epoch 71/400\n",
      "404/404 [==============================] - 0s 130us/step - loss: 1.3179 - accuracy: 0.0470\n",
      "Epoch 72/400\n",
      "404/404 [==============================] - 0s 134us/step - loss: 1.2818 - accuracy: 0.0520\n",
      "Epoch 73/400\n",
      "404/404 [==============================] - 0s 131us/step - loss: 1.3641 - accuracy: 0.0322\n",
      "Epoch 74/400\n",
      "404/404 [==============================] - 0s 132us/step - loss: 1.2726 - accuracy: 0.0371\n",
      "Epoch 75/400\n",
      "404/404 [==============================] - 0s 132us/step - loss: 1.3263 - accuracy: 0.0421\n",
      "Epoch 76/400\n",
      "404/404 [==============================] - 0s 139us/step - loss: 1.2464 - accuracy: 0.0470\n",
      "Epoch 77/400\n",
      "404/404 [==============================] - 0s 130us/step - loss: 1.3204 - accuracy: 0.0322\n",
      "Epoch 78/400\n",
      "404/404 [==============================] - 0s 130us/step - loss: 1.3696 - accuracy: 0.0371\n",
      "Epoch 79/400\n"
     ]
    },
    {
     "name": "stdout",
     "output_type": "stream",
     "text": [
      "404/404 [==============================] - 0s 130us/step - loss: 1.3129 - accuracy: 0.0371\n",
      "Epoch 80/400\n",
      "404/404 [==============================] - 0s 136us/step - loss: 1.4189 - accuracy: 0.0371\n",
      "Epoch 81/400\n",
      "404/404 [==============================] - 0s 128us/step - loss: 1.2353 - accuracy: 0.0470\n",
      "Epoch 82/400\n",
      "404/404 [==============================] - 0s 130us/step - loss: 1.2531 - accuracy: 0.0322\n",
      "Epoch 83/400\n",
      "404/404 [==============================] - 0s 135us/step - loss: 1.2275 - accuracy: 0.0371\n",
      "Epoch 84/400\n",
      "404/404 [==============================] - 0s 145us/step - loss: 1.2928 - accuracy: 0.0396\n",
      "Epoch 85/400\n",
      "404/404 [==============================] - 0s 140us/step - loss: 1.4127 - accuracy: 0.0297\n",
      "Epoch 86/400\n",
      "404/404 [==============================] - 0s 143us/step - loss: 1.2772 - accuracy: 0.0421\n",
      "Epoch 87/400\n",
      "404/404 [==============================] - 0s 134us/step - loss: 1.1821 - accuracy: 0.0495\n",
      "Epoch 88/400\n",
      "404/404 [==============================] - 0s 135us/step - loss: 1.4693 - accuracy: 0.0322\n",
      "Epoch 89/400\n",
      "404/404 [==============================] - 0s 134us/step - loss: 1.4323 - accuracy: 0.0421\n",
      "Epoch 90/400\n",
      "404/404 [==============================] - 0s 135us/step - loss: 1.3394 - accuracy: 0.0347\n",
      "Epoch 91/400\n",
      "404/404 [==============================] - 0s 142us/step - loss: 1.3347 - accuracy: 0.0297\n",
      "Epoch 92/400\n",
      "404/404 [==============================] - 0s 133us/step - loss: 1.2376 - accuracy: 0.0619\n",
      "Epoch 93/400\n",
      "404/404 [==============================] - 0s 134us/step - loss: 1.1803 - accuracy: 0.0421\n",
      "Epoch 94/400\n",
      "404/404 [==============================] - 0s 143us/step - loss: 1.2407 - accuracy: 0.0371\n",
      "Epoch 95/400\n",
      "404/404 [==============================] - 0s 144us/step - loss: 1.2104 - accuracy: 0.0495\n",
      "Epoch 96/400\n",
      "404/404 [==============================] - 0s 143us/step - loss: 1.2449 - accuracy: 0.0569\n",
      "Epoch 97/400\n",
      "404/404 [==============================] - 0s 140us/step - loss: 1.1242 - accuracy: 0.0446\n",
      "Epoch 98/400\n",
      "404/404 [==============================] - 0s 145us/step - loss: 1.2209 - accuracy: 0.0223\n",
      "Epoch 99/400\n",
      "404/404 [==============================] - 0s 141us/step - loss: 1.3516 - accuracy: 0.0421\n",
      "Epoch 100/400\n",
      "404/404 [==============================] - 0s 145us/step - loss: 1.1028 - accuracy: 0.0545\n",
      "Epoch 101/400\n",
      "404/404 [==============================] - 0s 140us/step - loss: 1.1159 - accuracy: 0.0446\n",
      "Epoch 102/400\n",
      "404/404 [==============================] - 0s 142us/step - loss: 1.0250 - accuracy: 0.0594\n",
      "Epoch 103/400\n",
      "404/404 [==============================] - 0s 139us/step - loss: 1.0807 - accuracy: 0.0495\n",
      "Epoch 104/400\n",
      "404/404 [==============================] - 0s 144us/step - loss: 1.1315 - accuracy: 0.0470\n",
      "Epoch 105/400\n",
      "404/404 [==============================] - 0s 140us/step - loss: 1.3550 - accuracy: 0.0371\n",
      "Epoch 106/400\n",
      "404/404 [==============================] - 0s 137us/step - loss: 1.2233 - accuracy: 0.0371\n",
      "Epoch 107/400\n",
      "404/404 [==============================] - 0s 136us/step - loss: 1.1113 - accuracy: 0.0495\n",
      "Epoch 108/400\n",
      "404/404 [==============================] - 0s 133us/step - loss: 1.0912 - accuracy: 0.0545\n",
      "Epoch 109/400\n",
      "404/404 [==============================] - 0s 131us/step - loss: 1.0998 - accuracy: 0.0248\n",
      "Epoch 110/400\n",
      "404/404 [==============================] - 0s 130us/step - loss: 1.1027 - accuracy: 0.0421\n",
      "Epoch 111/400\n",
      "404/404 [==============================] - 0s 131us/step - loss: 1.0828 - accuracy: 0.0545\n",
      "Epoch 112/400\n",
      "404/404 [==============================] - 0s 134us/step - loss: 1.0571 - accuracy: 0.0520\n",
      "Epoch 113/400\n",
      "404/404 [==============================] - 0s 130us/step - loss: 1.1607 - accuracy: 0.0371\n",
      "Epoch 114/400\n",
      "404/404 [==============================] - 0s 131us/step - loss: 1.1482 - accuracy: 0.0569\n",
      "Epoch 115/400\n",
      "404/404 [==============================] - 0s 130us/step - loss: 1.0251 - accuracy: 0.0520\n",
      "Epoch 116/400\n",
      "404/404 [==============================] - 0s 135us/step - loss: 1.0763 - accuracy: 0.0322\n",
      "Epoch 117/400\n",
      "404/404 [==============================] - 0s 142us/step - loss: 0.9768 - accuracy: 0.0619\n",
      "Epoch 118/400\n",
      "404/404 [==============================] - 0s 140us/step - loss: 1.0653 - accuracy: 0.0446\n",
      "Epoch 119/400\n",
      "404/404 [==============================] - 0s 146us/step - loss: 0.9813 - accuracy: 0.0421\n",
      "Epoch 120/400\n",
      "404/404 [==============================] - 0s 135us/step - loss: 0.9780 - accuracy: 0.0619\n",
      "Epoch 121/400\n",
      "404/404 [==============================] - 0s 132us/step - loss: 0.9677 - accuracy: 0.0446\n",
      "Epoch 122/400\n",
      "404/404 [==============================] - 0s 136us/step - loss: 0.9726 - accuracy: 0.0569\n",
      "Epoch 123/400\n",
      "404/404 [==============================] - 0s 140us/step - loss: 0.9365 - accuracy: 0.0569\n",
      "Epoch 124/400\n",
      "404/404 [==============================] - 0s 137us/step - loss: 1.1838 - accuracy: 0.0322\n",
      "Epoch 125/400\n",
      "404/404 [==============================] - 0s 136us/step - loss: 1.0398 - accuracy: 0.0569\n",
      "Epoch 126/400\n",
      "404/404 [==============================] - 0s 143us/step - loss: 1.0262 - accuracy: 0.0470\n",
      "Epoch 127/400\n",
      "404/404 [==============================] - 0s 140us/step - loss: 0.9354 - accuracy: 0.0421\n",
      "Epoch 128/400\n",
      "404/404 [==============================] - 0s 141us/step - loss: 0.9684 - accuracy: 0.0545\n",
      "Epoch 129/400\n",
      "404/404 [==============================] - 0s 139us/step - loss: 0.9362 - accuracy: 0.0569\n",
      "Epoch 130/400\n",
      "404/404 [==============================] - 0s 144us/step - loss: 1.0722 - accuracy: 0.0223\n",
      "Epoch 131/400\n",
      "404/404 [==============================] - 0s 141us/step - loss: 1.3068 - accuracy: 0.0520\n",
      "Epoch 132/400\n",
      "404/404 [==============================] - 0s 144us/step - loss: 1.1034 - accuracy: 0.0446\n",
      "Epoch 133/400\n",
      "404/404 [==============================] - 0s 139us/step - loss: 0.9479 - accuracy: 0.0520\n",
      "Epoch 134/400\n",
      "404/404 [==============================] - 0s 144us/step - loss: 0.9458 - accuracy: 0.0446\n",
      "Epoch 135/400\n",
      "404/404 [==============================] - 0s 141us/step - loss: 0.9161 - accuracy: 0.0693\n",
      "Epoch 136/400\n",
      "404/404 [==============================] - 0s 144us/step - loss: 0.9740 - accuracy: 0.0421\n",
      "Epoch 137/400\n",
      "404/404 [==============================] - 0s 140us/step - loss: 0.9019 - accuracy: 0.0718\n",
      "Epoch 138/400\n",
      "404/404 [==============================] - 0s 142us/step - loss: 1.0495 - accuracy: 0.0421\n",
      "Epoch 139/400\n",
      "404/404 [==============================] - 0s 135us/step - loss: 0.9481 - accuracy: 0.0594\n",
      "Epoch 140/400\n",
      "404/404 [==============================] - 0s 143us/step - loss: 0.9701 - accuracy: 0.0470\n",
      "Epoch 141/400\n",
      "404/404 [==============================] - 0s 140us/step - loss: 1.2125 - accuracy: 0.0371\n",
      "Epoch 142/400\n",
      "404/404 [==============================] - 0s 143us/step - loss: 0.9808 - accuracy: 0.0495\n",
      "Epoch 143/400\n",
      "404/404 [==============================] - 0s 139us/step - loss: 1.0526 - accuracy: 0.0371\n",
      "Epoch 144/400\n",
      "404/404 [==============================] - 0s 141us/step - loss: 0.9405 - accuracy: 0.0520\n",
      "Epoch 145/400\n",
      "404/404 [==============================] - 0s 135us/step - loss: 1.0463 - accuracy: 0.0594\n",
      "Epoch 146/400\n",
      "404/404 [==============================] - 0s 134us/step - loss: 0.9110 - accuracy: 0.0495\n",
      "Epoch 147/400\n",
      "404/404 [==============================] - 0s 135us/step - loss: 1.0637 - accuracy: 0.0520\n",
      "Epoch 148/400\n",
      "404/404 [==============================] - 0s 133us/step - loss: 1.0263 - accuracy: 0.0569\n",
      "Epoch 149/400\n",
      "404/404 [==============================] - 0s 134us/step - loss: 1.0861 - accuracy: 0.0347\n",
      "Epoch 150/400\n",
      "404/404 [==============================] - 0s 133us/step - loss: 0.9665 - accuracy: 0.0322\n",
      "Epoch 151/400\n",
      "404/404 [==============================] - 0s 134us/step - loss: 1.0005 - accuracy: 0.0569\n",
      "Epoch 152/400\n",
      "404/404 [==============================] - 0s 135us/step - loss: 0.8738 - accuracy: 0.0495\n",
      "Epoch 153/400\n",
      "404/404 [==============================] - 0s 143us/step - loss: 0.9137 - accuracy: 0.0644\n",
      "Epoch 154/400\n",
      "404/404 [==============================] - 0s 139us/step - loss: 0.8400 - accuracy: 0.0594\n",
      "Epoch 155/400\n",
      "404/404 [==============================] - 0s 143us/step - loss: 1.0411 - accuracy: 0.0470\n",
      "Epoch 156/400\n",
      "404/404 [==============================] - 0s 141us/step - loss: 0.9582 - accuracy: 0.0470\n",
      "Epoch 157/400\n"
     ]
    },
    {
     "name": "stdout",
     "output_type": "stream",
     "text": [
      "404/404 [==============================] - 0s 143us/step - loss: 0.8533 - accuracy: 0.0545\n",
      "Epoch 158/400\n",
      "404/404 [==============================] - 0s 141us/step - loss: 0.8821 - accuracy: 0.0569\n",
      "Epoch 159/400\n",
      "404/404 [==============================] - 0s 141us/step - loss: 0.7937 - accuracy: 0.0619\n",
      "Epoch 160/400\n",
      "404/404 [==============================] - 0s 139us/step - loss: 0.9072 - accuracy: 0.0594\n",
      "Epoch 161/400\n",
      "404/404 [==============================] - 0s 142us/step - loss: 0.9073 - accuracy: 0.0371\n",
      "Epoch 162/400\n",
      "404/404 [==============================] - 0s 141us/step - loss: 1.0092 - accuracy: 0.0470\n",
      "Epoch 163/400\n",
      "404/404 [==============================] - 0s 143us/step - loss: 0.9168 - accuracy: 0.0470\n",
      "Epoch 164/400\n",
      "404/404 [==============================] - 0s 136us/step - loss: 0.8317 - accuracy: 0.0470\n",
      "Epoch 165/400\n",
      "404/404 [==============================] - 0s 139us/step - loss: 0.9996 - accuracy: 0.0569\n",
      "Epoch 166/400\n",
      "404/404 [==============================] - 0s 132us/step - loss: 1.0225 - accuracy: 0.0470\n",
      "Epoch 167/400\n",
      "404/404 [==============================] - 0s 130us/step - loss: 0.8878 - accuracy: 0.0619\n",
      "Epoch 168/400\n",
      "404/404 [==============================] - 0s 141us/step - loss: 0.9124 - accuracy: 0.0594\n",
      "Epoch 169/400\n",
      "404/404 [==============================] - 0s 140us/step - loss: 0.9755 - accuracy: 0.0396\n",
      "Epoch 170/400\n",
      "404/404 [==============================] - 0s 135us/step - loss: 0.8929 - accuracy: 0.0545\n",
      "Epoch 171/400\n",
      "404/404 [==============================] - 0s 136us/step - loss: 0.9743 - accuracy: 0.0545\n",
      "Epoch 172/400\n",
      "404/404 [==============================] - 0s 136us/step - loss: 0.8963 - accuracy: 0.0545\n",
      "Epoch 173/400\n",
      "404/404 [==============================] - 0s 136us/step - loss: 0.8498 - accuracy: 0.0619\n",
      "Epoch 174/400\n",
      "404/404 [==============================] - 0s 135us/step - loss: 0.8069 - accuracy: 0.0644\n",
      "Epoch 175/400\n",
      "404/404 [==============================] - 0s 138us/step - loss: 0.8353 - accuracy: 0.0644\n",
      "Epoch 176/400\n",
      "404/404 [==============================] - 0s 142us/step - loss: 0.8857 - accuracy: 0.0446\n",
      "Epoch 177/400\n",
      "404/404 [==============================] - 0s 136us/step - loss: 0.8454 - accuracy: 0.0545\n",
      "Epoch 178/400\n",
      "404/404 [==============================] - 0s 139us/step - loss: 0.9174 - accuracy: 0.0520\n",
      "Epoch 179/400\n",
      "404/404 [==============================] - 0s 141us/step - loss: 0.8916 - accuracy: 0.0495\n",
      "Epoch 180/400\n",
      "404/404 [==============================] - 0s 143us/step - loss: 0.8312 - accuracy: 0.0644\n",
      "Epoch 181/400\n",
      "404/404 [==============================] - 0s 141us/step - loss: 0.8639 - accuracy: 0.0470\n",
      "Epoch 182/400\n",
      "404/404 [==============================] - 0s 134us/step - loss: 0.8447 - accuracy: 0.0594\n",
      "Epoch 183/400\n",
      "404/404 [==============================] - 0s 142us/step - loss: 0.8161 - accuracy: 0.0619\n",
      "Epoch 184/400\n",
      "404/404 [==============================] - 0s 136us/step - loss: 0.8014 - accuracy: 0.0470\n",
      "Epoch 185/400\n",
      "404/404 [==============================] - 0s 141us/step - loss: 0.8090 - accuracy: 0.0569\n",
      "Epoch 186/400\n",
      "404/404 [==============================] - 0s 140us/step - loss: 0.8887 - accuracy: 0.0619\n",
      "Epoch 187/400\n",
      "404/404 [==============================] - 0s 143us/step - loss: 0.8033 - accuracy: 0.0569\n",
      "Epoch 188/400\n",
      "404/404 [==============================] - 0s 135us/step - loss: 0.8535 - accuracy: 0.0619\n",
      "Epoch 189/400\n",
      "404/404 [==============================] - 0s 140us/step - loss: 0.8048 - accuracy: 0.0421\n",
      "Epoch 190/400\n",
      "404/404 [==============================] - 0s 142us/step - loss: 0.8288 - accuracy: 0.0619\n",
      "Epoch 191/400\n",
      "404/404 [==============================] - 0s 143us/step - loss: 0.8543 - accuracy: 0.0470\n",
      "Epoch 192/400\n",
      "404/404 [==============================] - 0s 135us/step - loss: 1.0327 - accuracy: 0.0545\n",
      "Epoch 193/400\n",
      "404/404 [==============================] - 0s 134us/step - loss: 0.8766 - accuracy: 0.0619\n",
      "Epoch 194/400\n",
      "404/404 [==============================] - 0s 132us/step - loss: 0.9257 - accuracy: 0.0644\n",
      "Epoch 195/400\n",
      "404/404 [==============================] - 0s 130us/step - loss: 0.8822 - accuracy: 0.0569\n",
      "Epoch 196/400\n",
      "404/404 [==============================] - 0s 131us/step - loss: 0.7959 - accuracy: 0.0569\n",
      "Epoch 197/400\n",
      "404/404 [==============================] - 0s 134us/step - loss: 0.7646 - accuracy: 0.0668\n",
      "Epoch 198/400\n",
      "404/404 [==============================] - 0s 142us/step - loss: 0.8097 - accuracy: 0.0495\n",
      "Epoch 199/400\n",
      "404/404 [==============================] - 0s 146us/step - loss: 0.8003 - accuracy: 0.0470\n",
      "Epoch 200/400\n",
      "404/404 [==============================] - 0s 139us/step - loss: 0.8004 - accuracy: 0.0644\n",
      "Epoch 201/400\n",
      "404/404 [==============================] - 0s 134us/step - loss: 0.7677 - accuracy: 0.0718\n",
      "Epoch 202/400\n",
      "404/404 [==============================] - 0s 140us/step - loss: 0.7971 - accuracy: 0.0594\n",
      "Epoch 203/400\n",
      "404/404 [==============================] - 0s 134us/step - loss: 0.8064 - accuracy: 0.0644\n",
      "Epoch 204/400\n",
      "404/404 [==============================] - 0s 143us/step - loss: 0.7326 - accuracy: 0.0569\n",
      "Epoch 205/400\n",
      "404/404 [==============================] - 0s 135us/step - loss: 0.7471 - accuracy: 0.0644\n",
      "Epoch 206/400\n",
      "404/404 [==============================] - 0s 134us/step - loss: 0.7696 - accuracy: 0.0693\n",
      "Epoch 207/400\n",
      "404/404 [==============================] - 0s 142us/step - loss: 0.7283 - accuracy: 0.0569\n",
      "Epoch 208/400\n",
      "404/404 [==============================] - 0s 139us/step - loss: 0.7339 - accuracy: 0.0693\n",
      "Epoch 209/400\n",
      "404/404 [==============================] - 0s 143us/step - loss: 0.9479 - accuracy: 0.0371\n",
      "Epoch 210/400\n",
      "404/404 [==============================] - 0s 141us/step - loss: 0.8547 - accuracy: 0.0470\n",
      "Epoch 211/400\n",
      "404/404 [==============================] - 0s 144us/step - loss: 0.7871 - accuracy: 0.0767\n",
      "Epoch 212/400\n",
      "404/404 [==============================] - 0s 141us/step - loss: 0.7744 - accuracy: 0.0668\n",
      "Epoch 213/400\n",
      "404/404 [==============================] - 0s 145us/step - loss: 0.6720 - accuracy: 0.0817\n",
      "Epoch 214/400\n",
      "404/404 [==============================] - 0s 139us/step - loss: 0.7321 - accuracy: 0.0644\n",
      "Epoch 215/400\n",
      "404/404 [==============================] - 0s 144us/step - loss: 0.8092 - accuracy: 0.0470\n",
      "Epoch 216/400\n",
      "404/404 [==============================] - 0s 139us/step - loss: 0.7012 - accuracy: 0.0644\n",
      "Epoch 217/400\n",
      "404/404 [==============================] - 0s 141us/step - loss: 0.7440 - accuracy: 0.0693\n",
      "Epoch 218/400\n",
      "404/404 [==============================] - 0s 140us/step - loss: 0.7218 - accuracy: 0.0718\n",
      "Epoch 219/400\n",
      "404/404 [==============================] - 0s 143us/step - loss: 0.7027 - accuracy: 0.0594\n",
      "Epoch 220/400\n",
      "404/404 [==============================] - 0s 133us/step - loss: 0.8599 - accuracy: 0.0322\n",
      "Epoch 221/400\n",
      "404/404 [==============================] - 0s 143us/step - loss: 0.8623 - accuracy: 0.0520\n",
      "Epoch 222/400\n",
      "404/404 [==============================] - 0s 140us/step - loss: 0.8338 - accuracy: 0.0545\n",
      "Epoch 223/400\n",
      "404/404 [==============================] - 0s 143us/step - loss: 0.7950 - accuracy: 0.0421\n",
      "Epoch 224/400\n",
      "404/404 [==============================] - 0s 135us/step - loss: 0.7862 - accuracy: 0.0545\n",
      "Epoch 225/400\n",
      "404/404 [==============================] - 0s 135us/step - loss: 0.7609 - accuracy: 0.0718\n",
      "Epoch 226/400\n",
      "404/404 [==============================] - 0s 135us/step - loss: 0.7273 - accuracy: 0.0668\n",
      "Epoch 227/400\n",
      "404/404 [==============================] - 0s 135us/step - loss: 0.7967 - accuracy: 0.0594\n",
      "Epoch 228/400\n",
      "404/404 [==============================] - 0s 140us/step - loss: 0.7890 - accuracy: 0.0520\n",
      "Epoch 229/400\n",
      "404/404 [==============================] - 0s 134us/step - loss: 0.7325 - accuracy: 0.0644\n",
      "Epoch 230/400\n",
      "404/404 [==============================] - 0s 135us/step - loss: 0.7529 - accuracy: 0.0594\n",
      "Epoch 231/400\n",
      "404/404 [==============================] - 0s 142us/step - loss: 0.7663 - accuracy: 0.0520\n",
      "Epoch 232/400\n",
      "404/404 [==============================] - 0s 132us/step - loss: 0.7217 - accuracy: 0.0619\n",
      "Epoch 233/400\n",
      "404/404 [==============================] - 0s 134us/step - loss: 0.7056 - accuracy: 0.0693\n",
      "Epoch 234/400\n",
      "404/404 [==============================] - 0s 136us/step - loss: 0.7662 - accuracy: 0.0718\n",
      "Epoch 235/400\n"
     ]
    },
    {
     "name": "stdout",
     "output_type": "stream",
     "text": [
      "404/404 [==============================] - 0s 140us/step - loss: 0.9076 - accuracy: 0.0470\n",
      "Epoch 236/400\n",
      "404/404 [==============================] - 0s 145us/step - loss: 0.7991 - accuracy: 0.0545\n",
      "Epoch 237/400\n",
      "404/404 [==============================] - 0s 138us/step - loss: 0.8087 - accuracy: 0.0569\n",
      "Epoch 238/400\n",
      "404/404 [==============================] - 0s 142us/step - loss: 0.7519 - accuracy: 0.0644\n",
      "Epoch 239/400\n",
      "404/404 [==============================] - 0s 139us/step - loss: 0.8917 - accuracy: 0.0619\n",
      "Epoch 240/400\n",
      "404/404 [==============================] - 0s 142us/step - loss: 0.7545 - accuracy: 0.0569\n",
      "Epoch 241/400\n",
      "404/404 [==============================] - 0s 141us/step - loss: 0.6984 - accuracy: 0.0718\n",
      "Epoch 242/400\n",
      "404/404 [==============================] - 0s 143us/step - loss: 0.7444 - accuracy: 0.0668\n",
      "Epoch 243/400\n",
      "404/404 [==============================] - 0s 137us/step - loss: 0.8554 - accuracy: 0.0545\n",
      "Epoch 244/400\n",
      "404/404 [==============================] - 0s 140us/step - loss: 0.8668 - accuracy: 0.0520\n",
      "Epoch 245/400\n",
      "404/404 [==============================] - 0s 142us/step - loss: 1.0317 - accuracy: 0.0470\n",
      "Epoch 246/400\n",
      "404/404 [==============================] - 0s 144us/step - loss: 0.7562 - accuracy: 0.0619\n",
      "Epoch 247/400\n",
      "404/404 [==============================] - 0s 139us/step - loss: 0.6996 - accuracy: 0.0767\n",
      "Epoch 248/400\n",
      "404/404 [==============================] - 0s 141us/step - loss: 0.7081 - accuracy: 0.0594\n",
      "Epoch 249/400\n",
      "404/404 [==============================] - 0s 140us/step - loss: 0.6827 - accuracy: 0.0718\n",
      "Epoch 250/400\n",
      "404/404 [==============================] - 0s 139us/step - loss: 0.7292 - accuracy: 0.0767\n",
      "Epoch 251/400\n",
      "404/404 [==============================] - 0s 140us/step - loss: 0.8087 - accuracy: 0.0619\n",
      "Epoch 252/400\n",
      "404/404 [==============================] - 0s 135us/step - loss: 0.7649 - accuracy: 0.0644\n",
      "Epoch 253/400\n",
      "404/404 [==============================] - 0s 133us/step - loss: 0.6576 - accuracy: 0.0693\n",
      "Epoch 254/400\n",
      "404/404 [==============================] - 0s 136us/step - loss: 0.7003 - accuracy: 0.0644\n",
      "Epoch 255/400\n",
      "404/404 [==============================] - 0s 136us/step - loss: 0.6834 - accuracy: 0.0693\n",
      "Epoch 256/400\n",
      "404/404 [==============================] - 0s 134us/step - loss: 0.9247 - accuracy: 0.0594\n",
      "Epoch 257/400\n",
      "404/404 [==============================] - 0s 134us/step - loss: 1.0794 - accuracy: 0.0421\n",
      "Epoch 258/400\n",
      "404/404 [==============================] - 0s 135us/step - loss: 0.8275 - accuracy: 0.0545\n",
      "Epoch 259/400\n",
      "404/404 [==============================] - 0s 135us/step - loss: 0.6982 - accuracy: 0.0743\n",
      "Epoch 260/400\n",
      "404/404 [==============================] - 0s 135us/step - loss: 0.7918 - accuracy: 0.0644\n",
      "Epoch 261/400\n",
      "404/404 [==============================] - 0s 136us/step - loss: 0.9298 - accuracy: 0.0297\n",
      "Epoch 262/400\n",
      "404/404 [==============================] - 0s 142us/step - loss: 0.6870 - accuracy: 0.0644\n",
      "Epoch 263/400\n",
      "404/404 [==============================] - 0s 136us/step - loss: 0.7412 - accuracy: 0.0718\n",
      "Epoch 264/400\n",
      "404/404 [==============================] - 0s 143us/step - loss: 0.6458 - accuracy: 0.0767\n",
      "Epoch 265/400\n",
      "404/404 [==============================] - 0s 140us/step - loss: 0.7448 - accuracy: 0.0644\n",
      "Epoch 266/400\n",
      "404/404 [==============================] - 0s 140us/step - loss: 0.6983 - accuracy: 0.0545\n",
      "Epoch 267/400\n",
      "404/404 [==============================] - 0s 142us/step - loss: 0.7085 - accuracy: 0.0644\n",
      "Epoch 268/400\n",
      "404/404 [==============================] - 0s 140us/step - loss: 0.6793 - accuracy: 0.0545\n",
      "Epoch 269/400\n",
      "404/404 [==============================] - 0s 144us/step - loss: 0.8328 - accuracy: 0.0446\n",
      "Epoch 270/400\n",
      "404/404 [==============================] - 0s 141us/step - loss: 0.8370 - accuracy: 0.0520\n",
      "Epoch 271/400\n",
      "404/404 [==============================] - 0s 137us/step - loss: 0.7890 - accuracy: 0.0520\n",
      "Epoch 272/400\n",
      "404/404 [==============================] - 0s 141us/step - loss: 0.7758 - accuracy: 0.0446\n",
      "Epoch 273/400\n",
      "404/404 [==============================] - 0s 140us/step - loss: 0.7978 - accuracy: 0.0495\n",
      "Epoch 274/400\n",
      "404/404 [==============================] - 0s 139us/step - loss: 0.6649 - accuracy: 0.0520\n",
      "Epoch 275/400\n",
      "404/404 [==============================] - 0s 143us/step - loss: 0.6927 - accuracy: 0.0644\n",
      "Epoch 276/400\n",
      "404/404 [==============================] - 0s 140us/step - loss: 0.6835 - accuracy: 0.0743\n",
      "Epoch 277/400\n",
      "404/404 [==============================] - 0s 142us/step - loss: 0.6713 - accuracy: 0.0718\n",
      "Epoch 278/400\n",
      "404/404 [==============================] - 0s 134us/step - loss: 0.6514 - accuracy: 0.0767\n",
      "Epoch 279/400\n",
      "404/404 [==============================] - 0s 137us/step - loss: 0.7413 - accuracy: 0.0743\n",
      "Epoch 280/400\n",
      "404/404 [==============================] - 0s 137us/step - loss: 0.5994 - accuracy: 0.0767\n",
      "Epoch 281/400\n",
      "404/404 [==============================] - 0s 135us/step - loss: 0.6261 - accuracy: 0.0619\n",
      "Epoch 282/400\n",
      "404/404 [==============================] - 0s 135us/step - loss: 0.6277 - accuracy: 0.0792\n",
      "Epoch 283/400\n",
      "404/404 [==============================] - 0s 137us/step - loss: 0.6281 - accuracy: 0.0792\n",
      "Epoch 284/400\n",
      "404/404 [==============================] - 0s 141us/step - loss: 0.6265 - accuracy: 0.0743\n",
      "Epoch 285/400\n",
      "404/404 [==============================] - 0s 136us/step - loss: 0.6255 - accuracy: 0.0693\n",
      "Epoch 286/400\n",
      "404/404 [==============================] - 0s 135us/step - loss: 0.6761 - accuracy: 0.0644\n",
      "Epoch 287/400\n",
      "404/404 [==============================] - 0s 134us/step - loss: 0.6795 - accuracy: 0.0594\n",
      "Epoch 288/400\n",
      "404/404 [==============================] - 0s 140us/step - loss: 0.6044 - accuracy: 0.0743\n",
      "Epoch 289/400\n",
      "404/404 [==============================] - 0s 141us/step - loss: 0.7523 - accuracy: 0.0569\n",
      "Epoch 290/400\n",
      "404/404 [==============================] - 0s 136us/step - loss: 0.6374 - accuracy: 0.0817\n",
      "Epoch 291/400\n",
      "404/404 [==============================] - 0s 140us/step - loss: 0.6062 - accuracy: 0.0916\n",
      "Epoch 292/400\n",
      "404/404 [==============================] - 0s 143us/step - loss: 0.6247 - accuracy: 0.0767\n",
      "Epoch 293/400\n",
      "404/404 [==============================] - 0s 140us/step - loss: 0.6129 - accuracy: 0.0767\n",
      "Epoch 294/400\n",
      "404/404 [==============================] - 0s 143us/step - loss: 0.6385 - accuracy: 0.0743\n",
      "Epoch 295/400\n",
      "404/404 [==============================] - 0s 140us/step - loss: 0.6030 - accuracy: 0.0668\n",
      "Epoch 296/400\n",
      "404/404 [==============================] - 0s 143us/step - loss: 0.7479 - accuracy: 0.0545\n",
      "Epoch 297/400\n",
      "404/404 [==============================] - 0s 139us/step - loss: 0.8003 - accuracy: 0.0619\n",
      "Epoch 298/400\n",
      "404/404 [==============================] - 0s 142us/step - loss: 0.5641 - accuracy: 0.0891\n",
      "Epoch 299/400\n",
      "404/404 [==============================] - 0s 139us/step - loss: 0.6358 - accuracy: 0.0792\n",
      "Epoch 300/400\n",
      "404/404 [==============================] - 0s 144us/step - loss: 0.7310 - accuracy: 0.0569\n",
      "Epoch 301/400\n",
      "404/404 [==============================] - 0s 151us/step - loss: 0.6882 - accuracy: 0.0569\n",
      "Epoch 302/400\n",
      "404/404 [==============================] - 0s 133us/step - loss: 0.8022 - accuracy: 0.0470\n",
      "Epoch 303/400\n",
      "404/404 [==============================] - 0s 133us/step - loss: 0.6101 - accuracy: 0.0891\n",
      "Epoch 304/400\n",
      "404/404 [==============================] - 0s 146us/step - loss: 0.7186 - accuracy: 0.0792\n",
      "Epoch 305/400\n",
      "404/404 [==============================] - 0s 134us/step - loss: 0.7157 - accuracy: 0.0693\n",
      "Epoch 306/400\n",
      "404/404 [==============================] - 0s 144us/step - loss: 0.6485 - accuracy: 0.0594\n",
      "Epoch 307/400\n",
      "404/404 [==============================] - 0s 136us/step - loss: 0.7272 - accuracy: 0.0693\n",
      "Epoch 308/400\n",
      "404/404 [==============================] - 0s 141us/step - loss: 0.6322 - accuracy: 0.0718\n",
      "Epoch 309/400\n",
      "404/404 [==============================] - 0s 132us/step - loss: 0.6495 - accuracy: 0.0817\n",
      "Epoch 310/400\n",
      "404/404 [==============================] - 0s 135us/step - loss: 0.6941 - accuracy: 0.0792\n",
      "Epoch 311/400\n",
      "404/404 [==============================] - 0s 144us/step - loss: 0.6988 - accuracy: 0.0569\n",
      "Epoch 312/400\n",
      "404/404 [==============================] - 0s 139us/step - loss: 0.6974 - accuracy: 0.0644\n",
      "Epoch 313/400\n"
     ]
    },
    {
     "name": "stdout",
     "output_type": "stream",
     "text": [
      "404/404 [==============================] - 0s 141us/step - loss: 0.6046 - accuracy: 0.0792\n",
      "Epoch 314/400\n",
      "404/404 [==============================] - 0s 140us/step - loss: 0.6257 - accuracy: 0.0767\n",
      "Epoch 315/400\n",
      "404/404 [==============================] - 0s 144us/step - loss: 0.6093 - accuracy: 0.0668\n",
      "Epoch 316/400\n",
      "404/404 [==============================] - 0s 141us/step - loss: 0.5457 - accuracy: 0.0916\n",
      "Epoch 317/400\n",
      "404/404 [==============================] - 0s 143us/step - loss: 0.6315 - accuracy: 0.0792\n",
      "Epoch 318/400\n",
      "404/404 [==============================] - 0s 139us/step - loss: 0.6506 - accuracy: 0.0718\n",
      "Epoch 319/400\n",
      "404/404 [==============================] - 0s 143us/step - loss: 0.6528 - accuracy: 0.0693\n",
      "Epoch 320/400\n",
      "404/404 [==============================] - 0s 141us/step - loss: 0.6047 - accuracy: 0.0767\n",
      "Epoch 321/400\n",
      "404/404 [==============================] - 0s 142us/step - loss: 0.6426 - accuracy: 0.0569\n",
      "Epoch 322/400\n",
      "404/404 [==============================] - 0s 141us/step - loss: 0.6038 - accuracy: 0.0817\n",
      "Epoch 323/400\n",
      "404/404 [==============================] - 0s 140us/step - loss: 0.7654 - accuracy: 0.0545\n",
      "Epoch 324/400\n",
      "404/404 [==============================] - 0s 133us/step - loss: 0.5555 - accuracy: 0.0965\n",
      "Epoch 325/400\n",
      "404/404 [==============================] - 0s 138us/step - loss: 0.5823 - accuracy: 0.0842\n",
      "Epoch 326/400\n",
      "404/404 [==============================] - 0s 142us/step - loss: 0.5680 - accuracy: 0.0644\n",
      "Epoch 327/400\n",
      "404/404 [==============================] - 0s 142us/step - loss: 0.5648 - accuracy: 0.0792\n",
      "Epoch 328/400\n",
      "404/404 [==============================] - 0s 135us/step - loss: 0.6217 - accuracy: 0.0668\n",
      "Epoch 329/400\n",
      "404/404 [==============================] - 0s 135us/step - loss: 0.5927 - accuracy: 0.0817\n",
      "Epoch 330/400\n",
      "404/404 [==============================] - 0s 140us/step - loss: 0.5850 - accuracy: 0.0792\n",
      "Epoch 331/400\n",
      "404/404 [==============================] - 0s 136us/step - loss: 0.5652 - accuracy: 0.0817\n",
      "Epoch 332/400\n",
      "404/404 [==============================] - 0s 139us/step - loss: 0.5824 - accuracy: 0.0842\n",
      "Epoch 333/400\n",
      "404/404 [==============================] - 0s 141us/step - loss: 0.6256 - accuracy: 0.0743\n",
      "Epoch 334/400\n",
      "404/404 [==============================] - 0s 135us/step - loss: 0.6581 - accuracy: 0.0644\n",
      "Epoch 335/400\n",
      "404/404 [==============================] - 0s 135us/step - loss: 0.5958 - accuracy: 0.0817\n",
      "Epoch 336/400\n",
      "404/404 [==============================] - 0s 136us/step - loss: 0.7049 - accuracy: 0.0743\n",
      "Epoch 337/400\n",
      "404/404 [==============================] - 0s 141us/step - loss: 0.7313 - accuracy: 0.0545\n",
      "Epoch 338/400\n",
      "404/404 [==============================] - 0s 140us/step - loss: 0.6231 - accuracy: 0.0842\n",
      "Epoch 339/400\n",
      "404/404 [==============================] - 0s 140us/step - loss: 0.6866 - accuracy: 0.0619\n",
      "Epoch 340/400\n",
      "404/404 [==============================] - 0s 139us/step - loss: 0.6082 - accuracy: 0.0718\n",
      "Epoch 341/400\n",
      "404/404 [==============================] - 0s 139us/step - loss: 0.5828 - accuracy: 0.0866\n",
      "Epoch 342/400\n",
      "404/404 [==============================] - 0s 144us/step - loss: 0.5945 - accuracy: 0.0842\n",
      "Epoch 343/400\n",
      "404/404 [==============================] - 0s 139us/step - loss: 0.6097 - accuracy: 0.0718\n",
      "Epoch 344/400\n",
      "404/404 [==============================] - 0s 143us/step - loss: 0.6868 - accuracy: 0.0668\n",
      "Epoch 345/400\n",
      "404/404 [==============================] - 0s 140us/step - loss: 0.5805 - accuracy: 0.0866\n",
      "Epoch 346/400\n",
      "404/404 [==============================] - 0s 144us/step - loss: 0.5203 - accuracy: 0.0842\n",
      "Epoch 347/400\n",
      "404/404 [==============================] - 0s 136us/step - loss: 0.6895 - accuracy: 0.0693\n",
      "Epoch 348/400\n",
      "404/404 [==============================] - 0s 140us/step - loss: 0.5337 - accuracy: 0.0891\n",
      "Epoch 349/400\n",
      "404/404 [==============================] - 0s 140us/step - loss: 0.5457 - accuracy: 0.0817\n",
      "Epoch 350/400\n",
      "404/404 [==============================] - 0s 141us/step - loss: 0.5586 - accuracy: 0.0916\n",
      "Epoch 351/400\n",
      "404/404 [==============================] - 0s 140us/step - loss: 0.6136 - accuracy: 0.0817\n",
      "Epoch 352/400\n",
      "404/404 [==============================] - 0s 135us/step - loss: 0.5611 - accuracy: 0.0891\n",
      "Epoch 353/400\n",
      "404/404 [==============================] - 0s 136us/step - loss: 0.5855 - accuracy: 0.0743\n",
      "Epoch 354/400\n",
      "404/404 [==============================] - 0s 140us/step - loss: 0.5809 - accuracy: 0.0866\n",
      "Epoch 355/400\n",
      "404/404 [==============================] - 0s 144us/step - loss: 0.7358 - accuracy: 0.0470\n",
      "Epoch 356/400\n",
      "404/404 [==============================] - 0s 134us/step - loss: 0.7240 - accuracy: 0.0569\n",
      "Epoch 357/400\n",
      "404/404 [==============================] - 0s 140us/step - loss: 0.5681 - accuracy: 0.0569\n",
      "Epoch 358/400\n",
      "404/404 [==============================] - 0s 137us/step - loss: 0.6683 - accuracy: 0.0644\n",
      "Epoch 359/400\n",
      "404/404 [==============================] - 0s 140us/step - loss: 0.5637 - accuracy: 0.0767\n",
      "Epoch 360/400\n",
      "404/404 [==============================] - 0s 140us/step - loss: 0.6037 - accuracy: 0.0792\n",
      "Epoch 361/400\n",
      "404/404 [==============================] - 0s 135us/step - loss: 0.6233 - accuracy: 0.0817\n",
      "Epoch 362/400\n",
      "404/404 [==============================] - 0s 134us/step - loss: 0.5358 - accuracy: 0.0792\n",
      "Epoch 363/400\n",
      "404/404 [==============================] - 0s 139us/step - loss: 0.5417 - accuracy: 0.0842\n",
      "Epoch 364/400\n",
      "404/404 [==============================] - 0s 141us/step - loss: 0.5616 - accuracy: 0.0817\n",
      "Epoch 365/400\n",
      "404/404 [==============================] - 0s 137us/step - loss: 0.5212 - accuracy: 0.0817\n",
      "Epoch 366/400\n",
      "404/404 [==============================] - 0s 139us/step - loss: 0.7359 - accuracy: 0.0743\n",
      "Epoch 367/400\n",
      "404/404 [==============================] - 0s 142us/step - loss: 0.5637 - accuracy: 0.0569\n",
      "Epoch 368/400\n",
      "404/404 [==============================] - 0s 143us/step - loss: 0.5880 - accuracy: 0.0767\n",
      "Epoch 369/400\n",
      "404/404 [==============================] - 0s 141us/step - loss: 0.6058 - accuracy: 0.0718\n",
      "Epoch 370/400\n",
      "404/404 [==============================] - 0s 143us/step - loss: 0.6617 - accuracy: 0.0545\n",
      "Epoch 371/400\n",
      "404/404 [==============================] - 0s 140us/step - loss: 0.6597 - accuracy: 0.0842\n",
      "Epoch 372/400\n",
      "404/404 [==============================] - 0s 142us/step - loss: 0.6285 - accuracy: 0.0545\n",
      "Epoch 373/400\n",
      "404/404 [==============================] - 0s 143us/step - loss: 0.6469 - accuracy: 0.0668\n",
      "Epoch 374/400\n",
      "404/404 [==============================] - 0s 145us/step - loss: 0.6697 - accuracy: 0.0792\n",
      "Epoch 375/400\n",
      "404/404 [==============================] - 0s 140us/step - loss: 0.5542 - accuracy: 0.0941\n",
      "Epoch 376/400\n",
      "404/404 [==============================] - 0s 144us/step - loss: 0.5231 - accuracy: 0.0916\n",
      "Epoch 377/400\n",
      "404/404 [==============================] - 0s 139us/step - loss: 0.5707 - accuracy: 0.0817\n",
      "Epoch 378/400\n",
      "404/404 [==============================] - 0s 145us/step - loss: 0.6486 - accuracy: 0.0594\n",
      "Epoch 379/400\n",
      "404/404 [==============================] - 0s 139us/step - loss: 0.6320 - accuracy: 0.0718\n",
      "Epoch 380/400\n",
      "404/404 [==============================] - 0s 135us/step - loss: 0.6459 - accuracy: 0.0594\n",
      "Epoch 381/400\n",
      "404/404 [==============================] - 0s 130us/step - loss: 0.7479 - accuracy: 0.0520\n",
      "Epoch 382/400\n",
      "404/404 [==============================] - 0s 131us/step - loss: 0.8467 - accuracy: 0.0594\n",
      "Epoch 383/400\n",
      "404/404 [==============================] - 0s 129us/step - loss: 0.6783 - accuracy: 0.0619\n",
      "Epoch 384/400\n",
      "404/404 [==============================] - 0s 134us/step - loss: 0.6458 - accuracy: 0.0668\n",
      "Epoch 385/400\n",
      "404/404 [==============================] - 0s 129us/step - loss: 0.5591 - accuracy: 0.0767\n",
      "Epoch 386/400\n",
      "404/404 [==============================] - 0s 129us/step - loss: 0.5310 - accuracy: 0.0817\n",
      "Epoch 387/400\n",
      "404/404 [==============================] - 0s 130us/step - loss: 0.6097 - accuracy: 0.0693\n",
      "Epoch 388/400\n",
      "404/404 [==============================] - 0s 134us/step - loss: 0.5590 - accuracy: 0.0767\n",
      "Epoch 389/400\n",
      "404/404 [==============================] - 0s 136us/step - loss: 0.5062 - accuracy: 0.1015\n",
      "Epoch 390/400\n",
      "404/404 [==============================] - 0s 134us/step - loss: 0.5654 - accuracy: 0.0767\n",
      "Epoch 391/400\n"
     ]
    },
    {
     "name": "stdout",
     "output_type": "stream",
     "text": [
      "404/404 [==============================] - 0s 141us/step - loss: 0.5967 - accuracy: 0.0842\n",
      "Epoch 392/400\n",
      "404/404 [==============================] - 0s 135us/step - loss: 0.6078 - accuracy: 0.0743\n",
      "Epoch 393/400\n",
      "404/404 [==============================] - 0s 133us/step - loss: 0.6159 - accuracy: 0.0941\n",
      "Epoch 394/400\n",
      "404/404 [==============================] - 0s 131us/step - loss: 0.5880 - accuracy: 0.0718\n",
      "Epoch 395/400\n",
      "404/404 [==============================] - 0s 144us/step - loss: 0.5582 - accuracy: 0.0619\n",
      "Epoch 396/400\n",
      "404/404 [==============================] - 0s 145us/step - loss: 0.6184 - accuracy: 0.0644\n",
      "Epoch 397/400\n",
      "404/404 [==============================] - 0s 136us/step - loss: 0.5924 - accuracy: 0.0792\n",
      "Epoch 398/400\n",
      "404/404 [==============================] - 0s 140us/step - loss: 0.5168 - accuracy: 0.0743\n",
      "Epoch 399/400\n",
      "404/404 [==============================] - 0s 141us/step - loss: 0.6055 - accuracy: 0.0644\n",
      "Epoch 400/400\n",
      "404/404 [==============================] - 0s 134us/step - loss: 0.5573 - accuracy: 0.0718\n"
     ]
    },
    {
     "data": {
      "text/plain": [
       "<keras.callbacks.callbacks.History at 0x1a59feb7d0>"
      ]
     },
     "execution_count": 94,
     "metadata": {},
     "output_type": "execute_result"
    }
   ],
   "source": [
    "# train the model\n",
    "# inputs, outputs, no. of runs, and batch size per run\n",
    "m.fit(x_train_scaled, y_train, epochs = 400, batch_size=20)"
   ]
  },
  {
   "cell_type": "markdown",
   "metadata": {},
   "source": [
    "After a number of test runs with various parameter changes, it seems that the above model is what will give the best loss value results for our predictons.\n",
    "I have observed that the loss value continues to reduce as epochs are increased, however the best loss value achieved was 0.2940 at Epoch 982.\n",
    "\n",
    "In order to balance between time, computing respources and best outcome, I have set up the training model for 400 epochs."
   ]
  },
  {
   "cell_type": "code",
   "execution_count": 102,
   "metadata": {},
   "outputs": [
    {
     "data": {
      "text/plain": [
       "array([[27., 19., 20., 26., 29., 14., 24., 21., 25., 14., 38., 16., 24.,\n",
       "        12., 20., 15., 17., 42., 24., 20., 33., 29., 21.,  8., 13., 22.,\n",
       "        24., 24., 14., 16., 25., 51., 22., 14., 15., 23., 31., 25., 24.,\n",
       "        15., 24., 24., 22., 36.,  7., 25., 10., 11., 26., 21., 18., 22.,\n",
       "        26., 40., 19., 15., 21., 17., 10., 25., 24., 36., 22., 22., 22.,\n",
       "        23., 24., 29., 25., 28., 32., 31., 33., 36., 29., 19., 30., 19.,\n",
       "        30., 19., 20., 25., 17., 45., 15., 27., 19., 18., 14., 13., 25.,\n",
       "        19.,  7., 22., 23., 11., 27., 47., 19., 23., 30., 26.]],\n",
       "      dtype=float32)"
      ]
     },
     "execution_count": 102,
     "metadata": {},
     "output_type": "execute_result"
    }
   ],
   "source": [
    "x_test_scaled = scaler.transform(x_test)\n",
    "m.predict(x_test_scaled).round().T"
   ]
  },
  {
   "cell_type": "code",
   "execution_count": 103,
   "metadata": {},
   "outputs": [
    {
     "name": "stderr",
     "output_type": "stream",
     "text": [
      "/opt/anaconda3/lib/python3.7/site-packages/ipykernel_launcher.py:1: FutureWarning: Method .as_matrix will be removed in a future version. Use .values instead.\n",
      "  \"\"\"Entry point for launching an IPython kernel.\n"
     ]
    },
    {
     "data": {
      "text/plain": [
       "array([24.3, 19.6, 17.5, 27.5, 36.2, 14.1, 25.3, 22.2, 24.2, 14.3, 38.7,\n",
       "       13.8, 24.7, 10.9, 20.1, 14.9, 15.6, 42.3, 20.1, 22.8, 36.2, 28.6,\n",
       "       23.4,  7.2, 14.6, 22.2, 23.1, 24.7, 14.3, 16.1, 24.5, 46.7, 23.2,\n",
       "       15.6, 12.6, 26.4, 31.6, 25. , 15. , 18.4, 23.1, 21.4, 23.9, 35.4,\n",
       "        8.4, 23. , 13.5, 12. , 26.2, 19.3, 15.4, 26.5, 21.6, 41.3, 20.4,\n",
       "       16.7, 27.5, 17.6, 12.8, 22.8, 20.8, 36. , 20. , 20.3, 20.5, 22.9,\n",
       "       15. , 33. , 29.1, 28. , 34.7, 32. , 32.4, 33.3, 28.2, 17.8, 50. ,\n",
       "       18.8, 29.8, 19.8, 21. , 22.8, 15.2, 43.8, 13.1, 29.1, 19.5, 18.4,\n",
       "       13.1, 16.3, 16.6, 20.5, 10.5, 21.2, 22. , 11.9, 31.2, 43.5, 19.9,\n",
       "       21.7, 29.4, 24.8], dtype=float32)"
      ]
     },
     "execution_count": 103,
     "metadata": {},
     "output_type": "execute_result"
    }
   ],
   "source": [
    "y_test.as_matrix().astype(np.float32)"
   ]
  },
  {
   "cell_type": "code",
   "execution_count": 104,
   "metadata": {},
   "outputs": [
    {
     "name": "stdout",
     "output_type": "stream",
     "text": [
      "102/102 [==============================] - 0s 45us/step\n"
     ]
    },
    {
     "data": {
      "text/plain": [
       "[2.0963528366649853, 0.029411764815449715]"
      ]
     },
     "execution_count": 104,
     "metadata": {},
     "output_type": "execute_result"
    }
   ],
   "source": [
    "m.evaluate(x_test_scaled, y_test)"
   ]
  }
 ],
 "metadata": {
  "kernelspec": {
   "display_name": "Python 3",
   "language": "python",
   "name": "python3"
  },
  "language_info": {
   "codemirror_mode": {
    "name": "ipython",
    "version": 3
   },
   "file_extension": ".py",
   "mimetype": "text/x-python",
   "name": "python",
   "nbconvert_exporter": "python",
   "pygments_lexer": "ipython3",
   "version": "3.7.4"
  }
 },
 "nbformat": 4,
 "nbformat_minor": 2
}
